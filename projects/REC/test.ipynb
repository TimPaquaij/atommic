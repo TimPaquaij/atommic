{
 "cells": [
  {
   "cell_type": "code",
   "execution_count": 46,
   "metadata": {
    "collapsed": true,
    "ExecuteTime": {
     "start_time": "2024-06-25T12:24:07.884538Z",
     "end_time": "2024-06-25T12:24:07.891937Z"
    }
   },
   "outputs": [],
   "source": [
    "import h5py\n",
    "import numpy as np\n",
    "import torch\n",
    "from atommic.collections.segmentation.losses.dice import one_hot\n",
    "from torch.nn import L1Loss\n",
    "import matplotlib.pyplot as plt\n"
   ]
  },
  {
   "cell_type": "code",
   "execution_count": 55,
   "outputs": [
    {
     "name": "stdout",
     "output_type": "stream",
     "text": [
      "prepared sasg results\n"
     ]
    }
   ],
   "source": [
    "Patient_id = 'MTR_227'\n",
    "intermidiate_form='reconstruction'\n",
    "fname = f'/data/projects/utwente/recon/SKM-TEA/v1-release/predictions/MTLRS_SENSE/predictions_8x/MTLRS_SKMTEA_SASG_DEF_2/2024-06-03_14-35-29/predictions/{Patient_id}.h5'\n",
    "with h5py.File(fname, \"r\") as f:\n",
    "    prediction_mtlrs_1 = f['segmentation'][()].squeeze()\n",
    "    reconstruction_mtlrs_1 = f['reconstruction'][()].squeeze()\n",
    "    inter_pred_mtlrs_1 = f['intermediate_' + intermidiate_form][()].squeeze()\n",
    "    segmentation_labels_mtlrs_1 = f['target_segmentation'][()].squeeze()\n",
    "\n",
    "fname = f'/data/projects/utwente/recon/SKM-TEA/v1-release/predictions/MTLRS_SENSE/predictions_8x/MTLRS_SKMTEA_SASG_DEF_2/2024-06-04_10-08-40/predictions/{Patient_id}.h5'\n",
    "with h5py.File(fname, \"r\") as f:\n",
    "    reconstruction_mtlrs_2 = f['reconstruction'][()].squeeze()\n",
    "    prediction_mtlrs_2 = f['segmentation'][()].squeeze()\n",
    "    inter_pred_mtlrs_2 = f['intermediate_' + intermidiate_form][()].squeeze()\n",
    "\n",
    "fname = f'/data/projects/utwente/recon/SKM-TEA/v1-release/predictions/MTLRS_SENSE/predictions_8x/MTLRS_SKMTEA_SASG_DEF_2/2024-06-04_11-32-04/predictions/{Patient_id}.h5'\n",
    "with h5py.File(fname, \"r\") as f:\n",
    "    reconstruction_mtlrs_3 = f['reconstruction'][()].squeeze()\n",
    "    prediction_mtlrs_3 = f['segmentation'][()].squeeze()\n",
    "    inter_pred_mtlrs_3 = f['intermediate_' + intermidiate_form][()].squeeze()\n",
    "\n",
    "fname = f'/data/projects/utwente/recon/SKM-TEA/v1-release/predictions/MTLRS_SENSE/predictions_8x/MTLRS_SKMTEA_SASG_DEF_2/2024-06-04_11-33-32/predictions/{Patient_id}.h5'\n",
    "with h5py.File(fname, \"r\") as f:\n",
    "    reconstruction_mtlrs_4 = f['reconstruction'][()].squeeze()\n",
    "    prediction_mtlrs_4 = f['segmentation'][()].squeeze()\n",
    "    inter_pred_mtlrs_4 = f['intermediate_' + intermidiate_form][()].squeeze()\n",
    "\n",
    "fname = f'/data/projects/utwente/recon/SKM-TEA/v1-release/predictions/MTLRS_SENSE/predictions_8x/MTLRS_SKMTEA_SASG_DEF_2/2024-06-04_11-33-44/predictions/{Patient_id}.h5'\n",
    "with h5py.File(fname, \"r\") as f:\n",
    "    reconstruction_mtlrs_5 = f['reconstruction'][()].squeeze()\n",
    "    prediction_mtlrs_5 = f['segmentation'][()].squeeze()\n",
    "    inter_pred_mtlrs_5 = f['intermediate_' + intermidiate_form][()].squeeze()\n",
    "\n",
    "mean_sasg = np.mean(\n",
    "    [np.abs(inter_pred_mtlrs_1[:, 0]), np.abs(inter_pred_mtlrs_2[:, 0]), np.abs(inter_pred_mtlrs_3[:, 0]) ,np.abs(inter_pred_mtlrs_4[:, 0]), np.abs(inter_pred_mtlrs_5[:, 0])],\n",
    "    axis=0)\n",
    "std_sasg  = np.std(\n",
    "    [np.abs(inter_pred_mtlrs_1[:, 0]), np.abs(inter_pred_mtlrs_2[:, 0]), np.abs(inter_pred_mtlrs_3[:, 0]),np.abs(inter_pred_mtlrs_4[:, 0]), np.abs(inter_pred_mtlrs_5[:, 0])],\n",
    "    axis=0)\n",
    "inter_std_sasg = np.mean(\n",
    "    [np.abs(inter_pred_mtlrs_1[:, 1]), np.abs(inter_pred_mtlrs_2[:, 1]), np.abs(inter_pred_mtlrs_3[:, 1]),np.abs(inter_pred_mtlrs_4[:, 1]), np.abs(inter_pred_mtlrs_5[:, 1])],\n",
    "    axis=0)\n",
    "reconstruction_sasg = np.mean(\n",
    "    [np.abs(reconstruction_mtlrs_1), np.abs(reconstruction_mtlrs_2), np.abs(reconstruction_mtlrs_3),np.abs(reconstruction_mtlrs_4), np.abs(reconstruction_mtlrs_5)],\n",
    "    axis=0)\n",
    "inter_seg_sasg = one_hot(torch.argmax(torch.softmax(torch.from_numpy(\n",
    "    np.mean([prediction_mtlrs_1, prediction_mtlrs_2, prediction_mtlrs_3,prediction_mtlrs_4,prediction_mtlrs_5], axis=0)),\n",
    "    dim=2), dim=2, keepdim=True),\n",
    "    num_classes=segmentation_labels_mtlrs_1.shape[1],dim=2).float().numpy()\n",
    "mean_seg_sasg = torch.softmax(torch.from_numpy(\n",
    "    np.mean([prediction_mtlrs_1, prediction_mtlrs_2, prediction_mtlrs_3, prediction_mtlrs_4,\n",
    "             prediction_mtlrs_5], axis=0)),\n",
    "    dim=2).float().numpy()\n",
    "entropy_seg_sasg = -np.sum(mean_seg_sasg * np.log(mean_seg_sasg + 1e-10), axis=2)\n",
    "print(\"prepared sasg results\")"
   ],
   "metadata": {
    "collapsed": false,
    "ExecuteTime": {
     "start_time": "2024-06-25T12:27:17.811637Z",
     "end_time": "2024-06-25T12:27:45.883277Z"
    }
   }
  },
  {
   "cell_type": "code",
   "execution_count": 56,
   "outputs": [
    {
     "name": "stdout",
     "output_type": "stream",
     "text": [
      "prepared JOINT results\n"
     ]
    }
   ],
   "source": [
    "fname = f'/data/projects/utwente/recon/SKM-TEA/v1-release/predictions/MTLRS_SENSE/predictions_8x/MTLRS_SENSE_NO_MTL_def/2024-05-23_12-22-34/predictions/{Patient_id}.h5'\n",
    "with h5py.File(fname, \"r\") as f:\n",
    "    prediction_mtlrs_1 = f['segmentation'][()].squeeze()\n",
    "    target_mtlrs_1 = f['target_reconstruction'][()].squeeze()\n",
    "    reconstruction_mtlrs_1 = f['reconstruction'][()].squeeze()\n",
    "    segmentation_labels_mtlrs_1 = f['target_segmentation'][()].squeeze()\n",
    "    inter_pred_mtlrs_1 = f['intermediate_' + intermidiate_form][()].squeeze()\n",
    "    zero_filled_mtlrs_1 = f['zero_filled'][()].squeeze()\n",
    "\n",
    "fname = f'/data/projects/utwente/recon/SKM-TEA/v1-release/predictions/MTLRS_SENSE/predictions_8x/MTLRS_SENSE_NO_MTL_def/2024-05-23_12-22-37/predictions/{Patient_id}.h5'\n",
    "with h5py.File(fname, \"r\") as f:\n",
    "    reconstruction_mtlrs_2 = f['reconstruction'][()].squeeze()\n",
    "    prediction_mtlrs_2 = f['segmentation'][()].squeeze()\n",
    "    inter_pred_mtlrs_2 = f['intermediate_' + intermidiate_form][()].squeeze()\n",
    "\n",
    "fname = f'/data/projects/utwente/recon/SKM-TEA/v1-release/predictions/MTLRS_SENSE/predictions_8x/MTLRS_SENSE_NO_MTL_def/2024-05-23_12-22-40/predictions/{Patient_id}.h5'\n",
    "with h5py.File(fname, \"r\") as f:\n",
    "    reconstruction_mtlrs_3 = f['reconstruction'][()].squeeze()\n",
    "    prediction_mtlrs_3 = f['segmentation'][()].squeeze()\n",
    "    inter_pred_mtlrs_3 = f['intermediate_' + intermidiate_form][()].squeeze()\n",
    "\n",
    "fname = f'/data/projects/utwente/recon/SKM-TEA/v1-release/predictions/MTLRS_SENSE/predictions_8x/MTLRS_SENSE_NO_MTL_def/2024-06-08_11-56-28/predictions/{Patient_id}.h5'\n",
    "with h5py.File(fname, \"r\") as f:\n",
    "    reconstruction_mtlrs_4 = f['reconstruction'][()].squeeze()\n",
    "    prediction_mtlrs_4 = f['segmentation'][()].squeeze()\n",
    "    inter_pred_mtlrs_4 = f['intermediate_' + intermidiate_form][()].squeeze()\n",
    "fname = f'/data/projects/utwente/recon/SKM-TEA/v1-release/predictions/MTLRS_SENSE/predictions_8x/MTLRS_SENSE_NO_MTL_def/2024-06-09_19-16-53/predictions/{Patient_id}.h5'\n",
    "with h5py.File(fname, \"r\") as f:\n",
    "    reconstruction_mtlrs_5 = f['reconstruction'][()].squeeze()\n",
    "    prediction_mtlrs_5 = f['segmentation'][()].squeeze()\n",
    "    inter_pred_mtlrs_5 = f['intermediate_' + intermidiate_form][()].squeeze()\n",
    "\n",
    "\n",
    "mean_no_mtl = np.mean([np.abs(inter_pred_mtlrs_1[:,0]),np.abs(inter_pred_mtlrs_2[:,0]),np.abs(inter_pred_mtlrs_3[:,0]),np.abs(inter_pred_mtlrs_4[:,0]),np.abs(inter_pred_mtlrs_5[:,0])],axis=0)\n",
    "std_no_mtl = np.std([np.abs(inter_pred_mtlrs_1[:,0]),np.abs(inter_pred_mtlrs_2[:,0]),np.abs(inter_pred_mtlrs_3[:,0]),np.abs(inter_pred_mtlrs_4[:,0]),np.abs(inter_pred_mtlrs_5[:,0])],axis=0)\n",
    "inter_std_no_mtl = np.mean([np.abs(inter_pred_mtlrs_1[:,1]),np.abs(inter_pred_mtlrs_2[:,1]),np.abs(inter_pred_mtlrs_3[:,1]),np.abs(inter_pred_mtlrs_4[:,1]),np.abs(inter_pred_mtlrs_5[:,1])],axis=0)\n",
    "reconstruction_no_mtl = np.mean(\n",
    "    [np.abs(reconstruction_mtlrs_1), np.abs(reconstruction_mtlrs_2), np.abs(reconstruction_mtlrs_3), np.abs(reconstruction_mtlrs_4), np.abs(reconstruction_mtlrs_5)],\n",
    "    axis=0)\n",
    "inter_seg_no_mtl = one_hot(torch.argmax(torch.softmax(torch.from_numpy(\n",
    "        np.mean([prediction_mtlrs_1, prediction_mtlrs_2, prediction_mtlrs_3, prediction_mtlrs_4, prediction_mtlrs_5], axis=0)),\n",
    "        dim=2), dim=2, keepdim=True),\n",
    "        num_classes=segmentation_labels_mtlrs_1.shape[1],dim=2).float().numpy()\n",
    "mean_seg_no_mtl = torch.softmax(torch.from_numpy(\n",
    "        np.mean([prediction_mtlrs_1, prediction_mtlrs_2, prediction_mtlrs_3, prediction_mtlrs_4, prediction_mtlrs_5], axis=0)),\n",
    "        dim=2).float().numpy()\n",
    "entropy_seg_no_mtl = -np.sum(mean_seg_no_mtl*np.log(mean_seg_no_mtl+1e-10),axis=2)\n",
    "print(\"prepared JOINT results\")"
   ],
   "metadata": {
    "collapsed": false,
    "ExecuteTime": {
     "start_time": "2024-06-25T12:27:45.927115Z",
     "end_time": "2024-06-25T12:28:14.073752Z"
    }
   }
  },
  {
   "cell_type": "code",
   "execution_count": 57,
   "outputs": [],
   "source": [
    "fname = f'/data/projects/utwente/recon/SKM-TEA/v1-release/predictions/MTLRS_SENSE/predictions_8x/MTLRS_SKMTEA_LOGIT_SUM_DEF_2/2024-06-02_18-24-03/predictions/{Patient_id}.h5'\n",
    "with h5py.File(fname, \"r\") as f:\n",
    "    reconstruction_mtlrs_1 = f['reconstruction'][()].squeeze()\n",
    "    prediction_mtlrs_1 = f['segmentation'][()].squeeze()\n",
    "\n",
    "    inter_pred_mtlrs_1 = f['intermediate_' + intermidiate_form][()].squeeze()\n",
    "\n",
    "fname = f'/data/projects/utwente/recon/SKM-TEA/v1-release/predictions/MTLRS_SENSE/predictions_8x/MTLRS_SKMTEA_LOGIT_SUM_DEF_2/2024-06-02_18-24-32/predictions/{Patient_id}.h5'\n",
    "with h5py.File(fname, \"r\") as f:\n",
    "    reconstruction_mtlrs_2 = f['reconstruction'][()].squeeze()\n",
    "    prediction_mtlrs_2 = f['segmentation'][()].squeeze()\n",
    "    inter_pred_mtlrs_2 = f['intermediate_' + intermidiate_form][()].squeeze()\n",
    "\n",
    "fname = f'/data/projects/utwente/recon/SKM-TEA/v1-release/predictions/MTLRS_SENSE/predictions_8x/MTLRS_SKMTEA_LOGIT_SUM_DEF_2/2024-06-02_18-24-37/predictions/{Patient_id}.h5'\n",
    "with h5py.File(fname, \"r\") as f:\n",
    "    reconstruction_mtlrs_3 = f['reconstruction'][()].squeeze()\n",
    "    prediction_mtlrs_3 = f['segmentation'][()].squeeze()\n",
    "    inter_pred_mtlrs_3 = f['intermediate_' + intermidiate_form][()].squeeze()\n",
    "\n",
    "fname = f'/data/projects/utwente/recon/SKM-TEA/v1-release/predictions/MTLRS_SENSE/predictions_8x/MTLRS_SKMTEA_LOGIT_SUM_DEF_2/2024-06-08_11-55-10/predictions/{Patient_id}.h5'\n",
    "with h5py.File(fname, \"r\") as f:\n",
    "    reconstruction_mtlrs_4 = f['reconstruction'][()].squeeze()\n",
    "    prediction_mtlrs_4 = f['segmentation'][()].squeeze()\n",
    "    inter_pred_mtlrs_4 = f['intermediate_' + intermidiate_form][()].squeeze()\n",
    "\n",
    "fname = f'/data/projects/utwente/recon/SKM-TEA/v1-release/predictions/MTLRS_SENSE/predictions_8x/MTLRS_SKMTEA_LOGIT_SUM_DEF_2/2024-06-08_11-55-07/predictions/{Patient_id}.h5'\n",
    "with h5py.File(fname, \"r\") as f:\n",
    "    reconstruction_mtlrs_5 = f['reconstruction'][()].squeeze()\n",
    "    prediction_mtlrs_5 = f['segmentation'][()].squeeze()\n",
    "    inter_pred_mtlrs_5 = f['intermediate_' + intermidiate_form][()].squeeze()\n",
    "mean_logit = np.mean(\n",
    "    [np.abs(inter_pred_mtlrs_1[:, 0]), np.abs(inter_pred_mtlrs_2[:, 0]), np.abs(inter_pred_mtlrs_3[:, 0]), np.abs(inter_pred_mtlrs_4[:, 0]), np.abs(inter_pred_mtlrs_5[:, 0])],\n",
    "    axis=0)\n",
    "std_logit = np.std(\n",
    "    [np.abs(inter_pred_mtlrs_1[:, 0]), np.abs(inter_pred_mtlrs_2[:, 0]), np.abs(inter_pred_mtlrs_3[:, 0]), np.abs(inter_pred_mtlrs_4[:, 0]), np.abs(inter_pred_mtlrs_5[:, 0])],\n",
    "    axis=0)\n",
    "inter_std_logit = np.mean(\n",
    "    [np.abs(inter_pred_mtlrs_1[:, 1]), np.abs(inter_pred_mtlrs_2[:, 1]), np.abs(inter_pred_mtlrs_3[:, 1]), np.abs(inter_pred_mtlrs_4[:, 1]), np.abs(inter_pred_mtlrs_5[:, 1])],\n",
    "    axis=0)\n",
    "reconstruction_logit = np.mean(\n",
    "    [np.abs(reconstruction_mtlrs_1), np.abs(reconstruction_mtlrs_2), np.abs(reconstruction_mtlrs_3), np.abs(reconstruction_mtlrs_4), np.abs(reconstruction_mtlrs_5)],\n",
    "    axis=0)\n",
    "inter_seg_logit = one_hot(torch.argmax(torch.softmax(torch.from_numpy(\n",
    "    np.mean([prediction_mtlrs_1, prediction_mtlrs_2, prediction_mtlrs_3, prediction_mtlrs_4, prediction_mtlrs_5], axis=0)),\n",
    "    dim=2), dim=2, keepdim=True),\n",
    "    num_classes=segmentation_labels_mtlrs_1.shape[1],dim=2).float().numpy()\n",
    "mean_seg_logit = torch.softmax(torch.from_numpy(\n",
    "    np.mean([prediction_mtlrs_1, prediction_mtlrs_2, prediction_mtlrs_3, prediction_mtlrs_4,\n",
    "             prediction_mtlrs_5], axis=0)),\n",
    "    dim=2).float().numpy()\n",
    "entropy_seg_logit = -np.sum(mean_seg_logit * np.log(mean_seg_logit + 1e-10), axis=2)"
   ],
   "metadata": {
    "collapsed": false,
    "ExecuteTime": {
     "start_time": "2024-06-25T12:28:14.072077Z",
     "end_time": "2024-06-25T12:28:40.640133Z"
    }
   }
  },
  {
   "cell_type": "code",
   "execution_count": 58,
   "outputs": [],
   "source": [
    "mean_sasg_error = []\n",
    "mean_joint_error = []\n",
    "mean_logit_error = []\n",
    "L1 = L1Loss(reduction='mean')\n",
    "for i in range(mean_sasg.shape[1]):\n",
    "    mean_sasg_error.append(L1(torch.from_numpy(reconstruction_mtlrs_1[:,0]),torch.from_numpy(mean_sasg[:,i,0])).float().numpy())\n",
    "    mean_joint_error.append(L1(torch.from_numpy(reconstruction_mtlrs_1[:,0]),torch.from_numpy(mean_no_mtl[:,i,0])).float().numpy())\n",
    "    mean_logit_error.append(L1(torch.from_numpy(reconstruction_mtlrs_1[:,0]),torch.from_numpy(mean_logit[:,i,0])).float().numpy())\n",
    "mean_IP_sasg = []\n",
    "mean_IP_joint = []\n",
    "mean_IP_logit = []\n",
    "for i in range(inter_std_sasg.shape[1]):\n",
    "    mean_IP_sasg.append(np.mean(inter_std_sasg[:,i]))\n",
    "    mean_IP_joint.append(np.mean(inter_std_no_mtl[:,i]))\n",
    "    mean_IP_logit.append(np.mean(inter_std_logit[:,i]))\n",
    "mean_deep_sasg = []\n",
    "mean_deep_joint = []\n",
    "mean_deep_logit = []\n",
    "for i in range(std_sasg.shape[1]):\n",
    "    mean_deep_sasg.append(np.mean(std_sasg[:,i]))\n",
    "    mean_deep_joint.append(np.mean(std_no_mtl[:,i]))\n",
    "    mean_deep_logit.append(np.mean(std_logit[:,i]))\n"
   ],
   "metadata": {
    "collapsed": false,
    "ExecuteTime": {
     "start_time": "2024-06-25T12:28:40.638364Z",
     "end_time": "2024-06-25T12:28:41.651213Z"
    }
   }
  },
  {
   "cell_type": "code",
   "execution_count": 59,
   "outputs": [],
   "source": [
    "plt.figure()\n",
    "plt.plot([1,2,3,4,5],mean_joint_error,label='JOINT')\n",
    "plt.plot([1,2,3,4,5],mean_logit_error,label='SUM LOGIT')\n",
    "plt.plot([1,2,3,4,5],mean_sasg_error,label='SASG')\n",
    "plt.ylabel('MSE')\n",
    "plt.xlabel('Cascade')\n",
    "plt.title('Reconstruction error over Cascades')\n",
    "plt.legend()\n",
    "plt.savefig('/scratch/tmpaquaij/Figures/IP/MSE_figure.png')\n",
    "plt.close()"
   ],
   "metadata": {
    "collapsed": false,
    "ExecuteTime": {
     "start_time": "2024-06-25T12:28:41.678133Z",
     "end_time": "2024-06-25T12:28:41.817284Z"
    }
   }
  },
  {
   "cell_type": "code",
   "execution_count": 60,
   "outputs": [],
   "source": [
    "plt.figure()\n",
    "plt.plot([1,2,3,4,5],mean_deep_joint,label = 'JOINT')\n",
    "plt.plot([1,2,3,4,5],mean_deep_logit,label = 'SUM LOGIT')\n",
    "plt.plot([1,2,3,4,5],mean_deep_sasg,label = 'SASG')\n",
    "plt.ylabel('Uncertainty (Deep Ensemble)')\n",
    "plt.xlabel('Cascade')\n",
    "plt.title('Reconstruction Uncertainty over Cascades')\n",
    "plt.legend()\n",
    "plt.savefig('/scratch/tmpaquaij/Figures/IP/DE_figure.png')\n",
    "plt.close()"
   ],
   "metadata": {
    "collapsed": false,
    "ExecuteTime": {
     "start_time": "2024-06-25T12:28:41.854074Z",
     "end_time": "2024-06-25T12:28:41.982174Z"
    }
   }
  },
  {
   "cell_type": "code",
   "execution_count": 62,
   "outputs": [],
   "source": [
    "plt.figure()\n",
    "plt.plot([1, 2, 3, 4, 5], mean_IP_joint,label = 'JOINT')\n",
    "plt.plot([1,2,3,4,5],mean_IP_logit,label = 'SUM LOGIT')\n",
    "plt.plot([1,2,3,4,5],mean_IP_sasg,label = 'SASG')\n",
    "plt.ylabel('Uncertainty (Intermediate Reconstructions)')\n",
    "plt.xlabel('Cascade')\n",
    "plt.legend()\n",
    "plt.title('Reconstruction Uncertainty over Cascades')\n",
    "plt.savefig('/scratch/tmpaquaij/Figures/IP/IP_figure.png')\n",
    "plt.close()"
   ],
   "metadata": {
    "collapsed": false,
    "ExecuteTime": {
     "start_time": "2024-06-25T12:32:51.991436Z",
     "end_time": "2024-06-25T12:32:52.129171Z"
    }
   }
  },
  {
   "cell_type": "code",
   "execution_count": null,
   "outputs": [],
   "source": [],
   "metadata": {
    "collapsed": false,
    "ExecuteTime": {
     "start_time": "2024-06-25T10:48:34.071496Z",
     "end_time": "2024-06-25T10:48:34.158157Z"
    }
   }
  },
  {
   "cell_type": "code",
   "execution_count": null,
   "outputs": [],
   "source": [],
   "metadata": {
    "collapsed": false
   }
  }
 ],
 "metadata": {
  "kernelspec": {
   "display_name": "Python 3",
   "language": "python",
   "name": "python3"
  },
  "language_info": {
   "codemirror_mode": {
    "name": "ipython",
    "version": 2
   },
   "file_extension": ".py",
   "mimetype": "text/x-python",
   "name": "python",
   "nbconvert_exporter": "python",
   "pygments_lexer": "ipython2",
   "version": "2.7.6"
  }
 },
 "nbformat": 4,
 "nbformat_minor": 0
}
