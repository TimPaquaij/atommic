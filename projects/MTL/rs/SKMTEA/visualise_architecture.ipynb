{
 "cells": [
  {
   "cell_type": "code",
   "execution_count": 14,
   "metadata": {
    "collapsed": true,
    "ExecuteTime": {
     "start_time": "2024-05-14T09:49:40.825979Z",
     "end_time": "2024-05-14T09:49:40.827659Z"
    }
   },
   "outputs": [],
   "source": [
    "from atommic.collections.segmentation.nn.attentionunet_base.attentionunet_block import AttentionUnet\n",
    "from torchvision import models\n",
    "from torchsummary import summary\n",
    "import torch\n"
   ]
  },
  {
   "cell_type": "code",
   "execution_count": 40,
   "outputs": [],
   "source": [
    "segmentation_module = AttentionUnet(\n",
    "                in_chans=1,\n",
    "                out_chans=5,\n",
    "                chans=64,\n",
    "                num_pool_layers=2,\n",
    "                drop_prob=0.0,\n",
    "            ).to(\"cuda:0\")"
   ],
   "metadata": {
    "collapsed": false,
    "ExecuteTime": {
     "start_time": "2024-05-14T09:56:53.436424Z",
     "end_time": "2024-05-14T09:56:53.481173Z"
    }
   }
  },
  {
   "cell_type": "code",
   "execution_count": 41,
   "outputs": [
    {
     "name": "stdout",
     "output_type": "stream",
     "text": [
      "----------------------------------------------------------------\n",
      "        Layer (type)               Output Shape         Param #\n",
      "================================================================\n",
      "            Conv2d-1         [-1, 64, 256, 256]             576\n",
      "    InstanceNorm2d-2         [-1, 64, 256, 256]               0\n",
      "         LeakyReLU-3         [-1, 64, 256, 256]               0\n",
      "         Dropout2d-4         [-1, 64, 256, 256]               0\n",
      "            Conv2d-5         [-1, 64, 256, 256]          36,864\n",
      "    InstanceNorm2d-6         [-1, 64, 256, 256]               0\n",
      "         LeakyReLU-7         [-1, 64, 256, 256]               0\n",
      "         Dropout2d-8         [-1, 64, 256, 256]               0\n",
      "         ConvBlock-9         [-1, 64, 256, 256]               0\n",
      "           Conv2d-10        [-1, 128, 128, 128]          73,728\n",
      "   InstanceNorm2d-11        [-1, 128, 128, 128]               0\n",
      "        LeakyReLU-12        [-1, 128, 128, 128]               0\n",
      "        Dropout2d-13        [-1, 128, 128, 128]               0\n",
      "           Conv2d-14        [-1, 128, 128, 128]         147,456\n",
      "   InstanceNorm2d-15        [-1, 128, 128, 128]               0\n",
      "        LeakyReLU-16        [-1, 128, 128, 128]               0\n",
      "        Dropout2d-17        [-1, 128, 128, 128]               0\n",
      "        ConvBlock-18        [-1, 128, 128, 128]               0\n",
      "           Conv2d-19          [-1, 256, 64, 64]         294,912\n",
      "   InstanceNorm2d-20          [-1, 256, 64, 64]               0\n",
      "        LeakyReLU-21          [-1, 256, 64, 64]               0\n",
      "        Dropout2d-22          [-1, 256, 64, 64]               0\n",
      "           Conv2d-23          [-1, 256, 64, 64]         589,824\n",
      "   InstanceNorm2d-24          [-1, 256, 64, 64]               0\n",
      "        LeakyReLU-25          [-1, 256, 64, 64]               0\n",
      "        Dropout2d-26          [-1, 256, 64, 64]               0\n",
      "        ConvBlock-27          [-1, 256, 64, 64]               0\n",
      "           Conv2d-28          [-1, 128, 64, 64]          65,536\n",
      "           Conv2d-29          [-1, 128, 64, 64]          32,896\n",
      "           Conv2d-30            [-1, 1, 64, 64]             129\n",
      "    AttentionGate-31        [-1, 128, 128, 128]               0\n",
      "  ConvTranspose2d-32        [-1, 128, 128, 128]         131,072\n",
      "   InstanceNorm2d-33        [-1, 128, 128, 128]               0\n",
      "        LeakyReLU-34        [-1, 128, 128, 128]               0\n",
      "TransposeConvBlock-35        [-1, 128, 128, 128]               0\n",
      "           Conv2d-36        [-1, 128, 128, 128]         294,912\n",
      "   InstanceNorm2d-37        [-1, 128, 128, 128]               0\n",
      "        LeakyReLU-38        [-1, 128, 128, 128]               0\n",
      "        Dropout2d-39        [-1, 128, 128, 128]               0\n",
      "           Conv2d-40        [-1, 128, 128, 128]         147,456\n",
      "   InstanceNorm2d-41        [-1, 128, 128, 128]               0\n",
      "        LeakyReLU-42        [-1, 128, 128, 128]               0\n",
      "        Dropout2d-43        [-1, 128, 128, 128]               0\n",
      "        ConvBlock-44        [-1, 128, 128, 128]               0\n",
      "           Conv2d-45         [-1, 64, 128, 128]          16,384\n",
      "           Conv2d-46         [-1, 64, 128, 128]           8,256\n",
      "           Conv2d-47          [-1, 1, 128, 128]              65\n",
      "    AttentionGate-48         [-1, 64, 256, 256]               0\n",
      "  ConvTranspose2d-49         [-1, 64, 256, 256]          32,768\n",
      "   InstanceNorm2d-50         [-1, 64, 256, 256]               0\n",
      "        LeakyReLU-51         [-1, 64, 256, 256]               0\n",
      "TransposeConvBlock-52         [-1, 64, 256, 256]               0\n",
      "           Conv2d-53         [-1, 64, 256, 256]          73,728\n",
      "   InstanceNorm2d-54         [-1, 64, 256, 256]               0\n",
      "        LeakyReLU-55         [-1, 64, 256, 256]               0\n",
      "        Dropout2d-56         [-1, 64, 256, 256]               0\n",
      "           Conv2d-57         [-1, 64, 256, 256]          36,864\n",
      "   InstanceNorm2d-58         [-1, 64, 256, 256]               0\n",
      "        LeakyReLU-59         [-1, 64, 256, 256]               0\n",
      "        Dropout2d-60         [-1, 64, 256, 256]               0\n",
      "        ConvBlock-61         [-1, 64, 256, 256]               0\n",
      "           Conv2d-62          [-1, 5, 256, 256]             325\n",
      "================================================================\n",
      "Total params: 1,983,751\n",
      "Trainable params: 1,983,751\n",
      "Non-trainable params: 0\n",
      "----------------------------------------------------------------\n",
      "Input size (MB): 0.25\n",
      "Forward/backward pass size (MB): 1202.66\n",
      "Params size (MB): 7.57\n",
      "Estimated Total Size (MB): 1210.47\n",
      "----------------------------------------------------------------\n"
     ]
    }
   ],
   "source": [
    "summary(segmentation_module,(1,256,256))"
   ],
   "metadata": {
    "collapsed": false,
    "ExecuteTime": {
     "start_time": "2024-05-14T09:57:04.786152Z",
     "end_time": "2024-05-14T09:57:04.796226Z"
    }
   }
  },
  {
   "cell_type": "code",
   "execution_count": null,
   "outputs": [],
   "source": [],
   "metadata": {
    "collapsed": false
   }
  }
 ],
 "metadata": {
  "kernelspec": {
   "display_name": "Python 3",
   "language": "python",
   "name": "python3"
  },
  "language_info": {
   "codemirror_mode": {
    "name": "ipython",
    "version": 2
   },
   "file_extension": ".py",
   "mimetype": "text/x-python",
   "name": "python",
   "nbconvert_exporter": "python",
   "pygments_lexer": "ipython2",
   "version": "2.7.6"
  }
 },
 "nbformat": 4,
 "nbformat_minor": 0
}
