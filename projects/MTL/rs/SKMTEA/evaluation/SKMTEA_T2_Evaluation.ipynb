{
 "cells": [
  {
   "cell_type": "code",
   "execution_count": null,
   "metadata": {
    "collapsed": true
   },
   "outputs": [],
   "source": [
    "from skm_tea.metrics import QuantitativeKneeMRI\n",
    "from meddlr.data.data_utils import collect_mask\n",
    "import dosma as dm\n",
    "from dosma.scan_sequences import QDess\n",
    "\n",
    "https://dosma.readthedocs.io/en/latest/\n",
    "\n",
    "\n",
    "arr = oF.categorical_to_one_hot(segmentation.A, channel_dim=-1)\n",
    "arr = collect_mask(arr, (0, 1, (2,3), (4,5)), out_channel_first=False)\n",
    "print(arr.shape)\n",
    "seg_gt = dm.MedicalVolume(arr, affine=segmentation.affine)\n",
    "print(seg_gt)\n",
    "echo1 = dm.MedicalVolume(image[:,:,:,0,0],affine=segmentation.affine)\n",
    "echo2 = dm.MedicalVolume(image[:,:,:,1,0],affine=segmentation.affine)\n"
   ]
  },
  {
   "cell_type": "code",
   "execution_count": null,
   "outputs": [],
   "source": [
    "metadata: pd.DataFrame = MetadataCatalog.get(\"skmtea_v1_train\").scan_metadata\n",
    "metadata = metadata[metadata[\"MTR_ID\"] == scan[\"scan_id\"]]\n",
    "\n"
   ],
   "metadata": {
    "collapsed": false
   }
  },
  {
   "cell_type": "code",
   "execution_count": null,
   "outputs": [],
   "source": [
    "def get_t1(seg: dm.MedicalVolume):\n",
    "  \"\"\"Build T1 maps based on the segmentation.\n",
    "\n",
    "  `seg[..., 3]` should correspond to the meniscus segmentation map.\n",
    "\n",
    "  Args:\n",
    "    seg (dm.MedicalVolume): A one-hot encoded segmentation mask, where the\n",
    "      last dimension is the channel dimension.\n",
    "\n",
    "  Returns:\n",
    "    dm.MedicalVolume: The estimated T1 map (in milliseconds).\n",
    "  \"\"\"\n",
    "  t1 = dm.MedicalVolume(np.ones(seg.shape[:3]) * 1200, seg.affine).to(seg.device)\n",
    "  t1[seg.A[..., 3].astype(bool)] = 1000\n",
    "  return t1\n",
    "\n",
    "t1_gt = get_t1(seg_gt)"
   ],
   "metadata": {
    "collapsed": false
   }
  },
  {
   "cell_type": "code",
   "execution_count": null,
   "outputs": [],
   "source": [
    "def compute_t2_map(t1: dm.MedicalVolume):\n",
    "  qdess = QDess([echo1, echo2]).to(t1.device)\n",
    "  t2map = qdess.generate_t2_map(\n",
    "      suppress_fat=True,\n",
    "      suppress_fluid=True,\n",
    "      gl_area=float(metadata[\"SpoilerGradientArea\"]),\n",
    "      tg=float(metadata[\"SpoilerGradientTime\"]),\n",
    "      tr=float(metadata[\"RepetitionTime\"]),\n",
    "      te=float(metadata[\"EchoTime1\"]),\n",
    "      alpha=float(metadata[\"FlipAngle\"]),\n",
    "      t1=t1,\n",
    "      nan_bounds=(0, 100),\n",
    "      nan_to_num=True,\n",
    "  )\n",
    "  return t2map.volumetric_map"
   ],
   "metadata": {
    "collapsed": false
   }
  },
  {
   "cell_type": "code",
   "execution_count": null,
   "outputs": [],
   "source": [
    "sl = 80 # Sagittal slice to plot\n",
    "nrows = 1\n",
    "hsize = 5\n",
    "wsize = hsize / kspace.shape[0] * kspace.shape[1]\n",
    "_, axs = plt.subplots(nrows, 2, figsize=(2 * wsize, nrows * hsize))\n",
    "plot_images(\n",
    "  [np.abs(image)[:,:,sl,0,0],t2_gt.A[:,:,sl]],\n",
    "  titles=[\"Weigthed Echo1 \", \"T2 \"],\n",
    "  cmap=[\"gray\",\"viridis\"], show_cbar=[False,True],axs=axs,fontsize=15,overlay=[seg_colorized[:,:,sl,:],None]\n",
    ")\n",
    "plt.savefig('/scratch/tmpaquaij/MasterProject/Figures/T2_prediction.png')"
   ],
   "metadata": {
    "collapsed": false
   }
  },
  {
   "cell_type": "code",
   "execution_count": null,
   "outputs": [],
   "source": [
    "use_subregions = False\n",
    "use_cpu = use_subregions  # computing subregions is currently limited to the CPU\n",
    "tissues = [\"pc\", \"fc\", \"tc\", \"men\"]\n",
    "\n",
    "qmri_gt = QuantitativeKneeMRI(channel_names=tissues, subregions=use_subregions, use_cpu=use_cpu)\n",
    "qmri_pred = QuantitativeKneeMRI(channel_names=tissues, subregions=use_subregions, use_cpu=use_cpu)\n",
    "\n",
    "# Reset the metrics\n",
    "qmri_gt.reset()\n",
    "qmri_pred.reset()\n",
    "\n",
    "# Compute regional qMRI estimates using ground truth and predicted segmentations.\n",
    "qmri_gt(ids=[scan[\"scan_id\"]], quantitative_map=[t2_gt], sem_seg=[seg_gt], medial_direction=metadata[\"MedialDirection\"])\n",
    "qmri_pred(ids=[scan[\"scan_id\"]], quantitative_map=[t2_pred], sem_seg=[seg_pred], medial_direction=metadata[\"MedialDirection\"])\n",
    "\n",
    "print(\"Ground Truth Regional T2 Estimates:\")\n",
    "display(qmri_gt.to_pandas())\n",
    "\n",
    "print(\"Predicted Regional T2 Estimates:\")\n",
    "display(qmri_pred.to_pandas())"
   ],
   "metadata": {
    "collapsed": false
   }
  },
  {
   "cell_type": "code",
   "execution_count": null,
   "outputs": [],
   "source": [],
   "metadata": {
    "collapsed": false
   }
  }
 ],
 "metadata": {
  "kernelspec": {
   "display_name": "Python 3",
   "language": "python",
   "name": "python3"
  },
  "language_info": {
   "codemirror_mode": {
    "name": "ipython",
    "version": 2
   },
   "file_extension": ".py",
   "mimetype": "text/x-python",
   "name": "python",
   "nbconvert_exporter": "python",
   "pygments_lexer": "ipython2",
   "version": "2.7.6"
  }
 },
 "nbformat": 4,
 "nbformat_minor": 0
}
