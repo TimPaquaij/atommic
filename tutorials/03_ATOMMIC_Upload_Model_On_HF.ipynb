{
 "cells": [
  {
   "cell_type": "code",
   "execution_count": null,
   "outputs": [],
   "source": [
    "\"\"\"\n",
    "You can run either this notebook locally (if you have all the dependencies and a GPU) or on Google Colab.\n",
    "\n",
    "Instructions for setting up Colab are as follows:\n",
    "1. Open a new Python 3 notebook.\n",
    "2. Import this notebook from GitHub (File -> Upload Notebook -> \"GITHUB\" tab -> copy/paste GitHub URL)\n",
    "3. Connect to an instance with a GPU (Runtime -> Change runtime type -> select \"GPU\" for hardware accelerator)\n",
    "4. Run this cell to set up dependencies.\n",
    "\"\"\"\n",
    "# If you're using Google Colab and not running locally, run this cell.\n",
    "\n",
    "## Install dependencies\n",
    "!apt-get install sox libsndfile1 ffmpeg\n",
    "!pip install wget\n",
    "!pip install text-unidecode\n",
    "\n",
    "# ### Install ATOMMIC\n",
    "# BRANCH = 'main'\n",
    "# !python -m pip install git@github.com:wdika/atommic.git"
   ],
   "metadata": {
    "collapsed": false
   }
  },
  {
   "cell_type": "code",
   "execution_count": null,
   "metadata": {
    "ExecuteTime": {
     "end_time": "2023-10-04T15:18:54.830038Z",
     "start_time": "2023-10-04T15:18:48.840015Z"
    },
    "collapsed": true,
    "id": "J6d04-VRjC-O"
   },
   "outputs": [],
   "source": [
    "### Install Hugging Face Hub\n",
    "!python -m pip install huggingface_hub\n",
    "!python -m pip install evaluate"
   ]
  },
  {
   "cell_type": "markdown",
   "metadata": {
    "id": "aS-Y5O_oGBTc"
   },
   "source": [
    "# ATOMMIC models on Hugging Face Hub\n",
    "\n",
    "This guide will briefly show how to upload ATOMMIC models to Hugging Face programmatically.\n",
    "\n",
    "This enables community members to share their ATOMMIC models (any model!) with all users of ATOMMIC!\n",
    "\n",
    "**Note**: While in this tutorial we showcase a reconstruction model, there is no particular restriction to any domain - all ATOMMIC models (.atommic files) of every domain can be uploaded and shared in the same way."
   ]
  },
  {
   "cell_type": "markdown",
   "metadata": {
    "id": "Us3UlvwCiEZi"
   },
   "source": [
    "# Login to Hugging Face\n",
    "\n",
    "Use the notebook login, and access your user access token (or create one to upload models to Hugging Face).\n",
    "\n",
    "For more information, visit the User Access Token section - https://huggingface.co/docs/hub/security-tokens"
   ]
  },
  {
   "cell_type": "code",
   "execution_count": null,
   "metadata": {
    "ExecuteTime": {
     "end_time": "2023-10-04T15:18:55.046849Z",
     "start_time": "2023-10-04T15:18:54.829715Z"
    }
   },
   "outputs": [],
   "source": [
    "from huggingface_hub import notebook_login\n",
    "\n",
    "# allow to enter token manually if not in notebook\n",
    "notebook_login()"
   ]
  },
  {
   "cell_type": "code",
   "execution_count": null,
   "metadata": {
    "id": "dgZbTPcFiaml"
   },
   "outputs": [],
   "source": [
    "!git config --global credential.helper store"
   ]
  },
  {
   "cell_type": "markdown",
   "metadata": {
    "id": "s-FiNn1eiFAl"
   },
   "source": [
    "# Prepare a model to upload to HF\n",
    "\n",
    "In this example, we will upload an ATOMMIC REC model to Hugging Face for simplicity and to showcase the method.\n",
    "\n",
    "**You can swap out this REC model for any model that you restore via `restore_from()` and follow the same steps to upload your own models !**"
   ]
  },
  {
   "cell_type": "code",
   "execution_count": null,
   "metadata": {
    "id": "5KnVl-M0ax14"
   },
   "outputs": [],
   "source": [
    "from omegaconf import OmegaConf, open_dict"
   ]
  },
  {
   "cell_type": "code",
   "execution_count": null,
   "metadata": {
    "id": "ZEDpkIinbwmm"
   },
   "outputs": [],
   "source": [
    "import atommic.collections.reconstruction as atommic_rec"
   ]
  },
  {
   "cell_type": "markdown",
   "metadata": {
    "id": "mLuQo1vnHVcP"
   },
   "source": [
    "# Model Name\n",
    "\n",
    "ATOMMIC adheres to strict requirements when naming a model for upload to Hugging Face Hub. \n",
    "\n",
    "It is **mandatory** to share the model name across the model card, the ATOMMIC file itself. Otherwise ATOMMIC model from Hugging Face will fail to restore correctly."
   ]
  },
  {
   "cell_type": "markdown",
   "metadata": {
    "id": "MRO2f9fhHywJ"
   },
   "source": [
    "## Naming Convention\n",
    "\n",
    "ATOMMIC model names can vary based on the task. Following the standard guidelines when naming models, we do not expect the same level of strictness for community contributions.\n",
    "\n",
    "Here are some common guidelines we encourage (but do not enforce) users to follow : \n",
    "\n",
    "- `Task name`: Usually a short 3-4 character representation of the task that the model performs.\n",
    "  - `mtl`  = MultiTask Learning (MTL)\n",
    "  - `qmri` = quantitative MRI (qMRI)\n",
    "  - `rec`  = Reconstruction (REC)\n",
    "  - `seg`  = Segmentation (SEG)\n",
    "\n",
    "- `Model Identifier`: Since models vary so drastically across domains, there is a lot of flexibility here. We try to adhere to naming conventions in literature as much as possible. For example, you can attach `model architecture` (REC/UNet), `training loss` (REC/SSIM), and `model size` (small, large, etc.).\n",
    "\n",
    "- `Optional: Additional Modifiers`: These are additional identifiers such as dataset name (cc359 for Calgary-Campinas 359), etc. It can be set on a case-by-case basis.\n",
    "\n",
    "All these name segments are jointed by `_`.\n",
    "\n",
    "-----\n",
    "\n",
    "As an example of the following model we will try today : \n",
    "\n",
    "`{task name}_{model identifier}_[OPTIONAL modifiers]` = `rec_unet_small`"
   ]
  },
  {
   "cell_type": "markdown",
   "metadata": {
    "id": "BjLstKWnPzWV"
   },
   "source": [
    "**Set the MODEL_NAME carefully** !"
   ]
  },
  {
   "cell_type": "code",
   "execution_count": null,
   "metadata": {
    "id": "UzHjXDbckU0M"
   },
   "outputs": [],
   "source": [
    "MODEL_NAME = \"rec_unet_cc359_poisson2d_5x_10x_sense_autoestimationcsm\""
   ]
  },
  {
   "cell_type": "markdown",
   "metadata": {
    "id": "qibj1RwvKjSQ"
   },
   "source": [
    "-----\n",
    "**Restore a ATOMMIC Model**\n",
    "\n",
    "Here, we restore a model from a local .atommic file using `restore_from()`."
   ]
  },
  {
   "cell_type": "code",
   "execution_count": null,
   "metadata": {},
   "outputs": [],
   "source": [
    "path_to_local_model = input(\"Please enter the (local) path to the pre-trained model file : \")"
   ]
  },
  {
   "cell_type": "code",
   "execution_count": null,
   "metadata": {
    "collapsed": true,
    "id": "MsC3pE65d_z2"
   },
   "outputs": [],
   "source": [
    "model = atommic_rec.nn.UNet.restore_from(path_to_local_model)"
   ]
  },
  {
   "cell_type": "markdown",
   "metadata": {
    "id": "y1AkXPFVKfC2"
   },
   "source": [
    "# Create a Hugging Face Model\n",
    "\n",
    "Now that we have an ATOMMIC model and have logged into Hugging Face with our user API key, we can begin by creating a new repository and uploading our model."
   ]
  },
  {
   "cell_type": "markdown",
   "metadata": {
    "id": "iv17qFG7KzlL"
   },
   "source": [
    "-----\n",
    "\n",
    "After the model has been restored, create an HfApi object to interact with the model repository."
   ]
  },
  {
   "cell_type": "code",
   "execution_count": null,
   "metadata": {
    "id": "aJUXCOTjKy-2"
   },
   "outputs": [],
   "source": [
    "from huggingface_hub import HfApi\n",
    "api = HfApi()\n",
    "username = api.whoami()['name']"
   ]
  },
  {
   "cell_type": "code",
   "execution_count": null,
   "metadata": {
    "id": "DKRlMeaEkeAH"
   },
   "outputs": [],
   "source": [
    "try:\n",
    "  api.create_repo(repo_id=MODEL_NAME)\n",
    "  print(\"Successfully created repository !\")\n",
    "except Exception as e:\n",
    "  print(\"Repository is possibly already created. Refer to error here - \\n\\n\", e)"
   ]
  },
  {
   "cell_type": "code",
   "execution_count": null,
   "metadata": {
    "id": "N2-deSyTlCdS"
   },
   "outputs": [],
   "source": [
    "from huggingface_hub import Repository"
   ]
  },
  {
   "cell_type": "markdown",
   "metadata": {
    "id": "aTa4RqDYLGMI"
   },
   "source": [
    "Note two essential names - \n",
    "\n",
    "- `hf_model_name`: A string name that is the composite of your `username` and `MODEL_NAME` as set above. This name is used for multiple purposes, so keep track of it.\n",
    "\n",
    "- `model_filename`: The actual filename of the ATOMMIC model that will be uploaded to Hugging Face. Note that this filename is explicitly set to `{MODEL_NAME}.atommic`. If this model filename is altered, then the model cannot correctly be restored by ATOMMIC when downloaded from Hugging Face Hub, so please be careful."
   ]
  },
  {
   "cell_type": "code",
   "execution_count": null,
   "metadata": {
    "id": "xhTTMNpBskMS",
    "scrolled": true
   },
   "outputs": [],
   "source": [
    "local_dir = f'model-{MODEL_NAME}/'\n",
    "hf_model_name = f'{username}/{MODEL_NAME}'\n",
    "\n",
    "commit_message = \"Upload model\"\n",
    "model_filename = f'{MODEL_NAME}.atommic'\n",
    "\n",
    "with Repository(local_dir=local_dir, clone_from=hf_model_name, repo_type='model').commit(commit_message):\n",
    "  model.save_to(model_filename)"
   ]
  },
  {
   "cell_type": "code",
   "execution_count": null,
   "metadata": {
    "id": "BhvNp8MYvxLi"
   },
   "outputs": [],
   "source": [
    "print(\"Finished uploading model to :\", hf_model_name)"
   ]
  },
  {
   "cell_type": "markdown",
   "metadata": {
    "id": "Qrs-MlW9vVbH"
   },
   "source": [
    "## Test if the model works \n",
    "\n",
    "Now that we uploaded the model, let's try to use it in ATOMMIC !\n",
    "\n",
    "The only change required between normally calling `from_pretrained(model_name)` is to call **`from_pretrained({username}/{filename})`**"
   ]
  },
  {
   "cell_type": "code",
   "execution_count": null,
   "metadata": {
    "collapsed": true,
    "id": "NyuyyRv5snkr"
   },
   "outputs": [],
   "source": [
    "hf_model_name = f'{username}/{MODEL_NAME}'\n",
    "hf_model = atommic_rec.nn.UNet.from_pretrained(hf_model_name)"
   ]
  },
  {
   "cell_type": "code",
   "execution_count": null,
   "metadata": {
    "id": "Yhi922WVv4G_"
   },
   "outputs": [],
   "source": [
    "print(\"Successfully used HF model -\", hf_model_name)"
   ]
  },
  {
   "cell_type": "markdown",
   "metadata": {
    "id": "9gG1ElJywEJT"
   },
   "source": [
    "# Model Card\n",
    "\n",
    "Now that we have uploaded the model, we are nearly 50% done!\n",
    "\n",
    "The next step is to update the model card to have some helpful information regarding the uploaded model and its scores compared to other models.\n",
    "\n",
    "You can do this in two ways, manually (by clicking the link below) or programmatically fill in part of the model card by following the instructions below."
   ]
  },
  {
   "cell_type": "code",
   "execution_count": null,
   "metadata": {
    "id": "aZJRKoxhwBLr"
   },
   "outputs": [],
   "source": [
    "hf_url = f'https://huggingface.co/{username}/{MODEL_NAME}'\n",
    "print(f\"Visit {hf_url} to manually edit your model card\")"
   ]
  },
  {
   "cell_type": "markdown",
   "metadata": {
    "id": "ZlA4hNq6w4rH"
   },
   "source": [
    "-----\n",
    "\n",
    "Here, we are going to setup some variables for our model card.\n",
    "\n",
    "First up are the tags:"
   ]
  },
  {
   "cell_type": "code",
   "execution_count": null,
   "metadata": {
    "id": "QxKtPynWyUWX"
   },
   "outputs": [],
   "source": [
    "TAGS = [\n",
    "    \"image-reconstruction\",\n",
    "    \"UNet\",\n",
    "    \"ATOMMIC\",  # required for library identification\n",
    "    \"pytorch\",  # required, for toolkit identification\n",
    "]"
   ]
  },
  {
   "cell_type": "markdown",
   "metadata": {
    "id": "Fh7rYWEMM0Vz"
   },
   "source": [
    "-----\n",
    "\n",
    "Next, we list down all the datasets that were used to train the model.\n",
    "\n",
    "By convention, try to search if the dataset already exists on Hugging Face Datasets - it is usually listed at the top and in lower case.\n",
    "\n",
    "If you train on datasets that don't yet exist in Hugging Face Datasets, you can still add them but try to differentiate them by using capitalized names."
   ]
  },
  {
   "cell_type": "code",
   "execution_count": null,
   "metadata": {
    "id": "qy-5aDAgzuGD"
   },
   "outputs": [],
   "source": [
    "# Replace all spaces with `-`\n",
    "DATASETS = [\n",
    "    \"CC359\",\n",
    "]"
   ]
  },
  {
   "cell_type": "markdown",
   "metadata": {
    "id": "_0w1X_z4NN5-"
   },
   "source": [
    "-----\n",
    "Now we create an automated template based on a config for the top portion of the readme file."
   ]
  },
  {
   "cell_type": "code",
   "execution_count": null,
   "metadata": {
    "id": "O88WFyPJwjJD"
   },
   "outputs": [],
   "source": [
    "from dataclasses import dataclass, field\n",
    "from typing import List, Optional, Dict, Any\n",
    "\n",
    "@dataclass\n",
    "class ATOMMICHuggingFaceModelConfig:\n",
    "  language: List[str]\n",
    "  license: str\n",
    "\n",
    "  library_name: str = \"atommic\"\n",
    "  datasets: List[str] = field(default_factory=lambda: DATASETS)\n",
    "  thumbnail: Optional[str] = None\n",
    "  tags: List[str] = field(default_factory=lambda: TAGS)\n",
    "  model_index: Any = field(default_factory=lambda: [dict(name=MODEL_NAME, results=[])])"
   ]
  },
  {
   "cell_type": "code",
   "execution_count": null,
   "metadata": {
    "id": "BpInrBdNxxZ3"
   },
   "outputs": [],
   "source": [
    "config = ATOMMICHuggingFaceModelConfig(language=['en'], license=\"cc-by-4.0\")  # choose appropriate license here\n",
    "config = OmegaConf.structured(config)\n",
    "\n",
    "with open_dict(config):\n",
    "  # Update `model_index` to `model-index`\n",
    "  model_index = config.pop('model_index')\n",
    "  config['model-index'] = model_index\n",
    "\n",
    "  # Replace all spaces with `-` in datasets\n",
    "  normalized_datasets = [ds_name.replace(\" \", \"-\") for ds_name in config['datasets']]\n",
    "  config['datasets'] = OmegaConf.create(normalized_datasets)\n",
    "\n",
    "print(OmegaConf.to_yaml(config))"
   ]
  },
  {
   "cell_type": "markdown",
   "metadata": {
    "id": "0TECX8QrC6FY"
   },
   "source": [
    "## Markdown Template\n",
    "\n",
    "Now that we have an auto-generated header for our readme, next, we write down some template markdown for the actual contents of the markdown.\n",
    "\n",
    "You can edit the code here directly if you want, or if you prefer the GUI to see the actual changes in real-time, you can finish uploading this model card and then edit the readme file on the Hugging Face webpage itself."
   ]
  },
  {
   "cell_type": "code",
   "execution_count": null,
   "metadata": {
    "id": "SSmm7_OiC9Ex"
   },
   "outputs": [],
   "source": [
    "hf_model_name = f'{username}/{MODEL_NAME}'\n",
    "\n",
    "TEMPLATE = f\"\"\"\n",
    "## Model Overview\n",
    "\n",
    "UNet for 5x & 10x accelerated MRI Reconstruction on the CC359 dataset\n",
    "\n",
    "\n",
    "## ATOMMIC: Training\n",
    "\n",
    "To train, fine-tune or play with the model you will need to install [ATOMMIC](https://github.com/wdika/atommic). We recommend you install it after you've installed latest Pytorch version.\n",
    "```\n",
    "pip install atommic['all']\n",
    "``` \n",
    "\n",
    "## How to Use this Model\n",
    "\n",
    "The model is available for use in ATOMMIC, and can be used as a pre-trained checkpoint for inference or for fine-tuning on another dataset.\n",
    "\n",
    "Corresponding configuration YAML files can be found [here](https://github.com/wdika/atommic/tree/main/projects/reconstruction/CC359/conf).\n",
    "\n",
    "### Automatically instantiate the model\n",
    "\n",
    "```python\n",
    "import atommic.collections.reconstruction.nn as atommic_rec_nn\n",
    "atommic_rec_model = atommic_rec_nn.unet.UNet.from_pretrained(\"{hf_model_name}\")\n",
    "```\n",
    "\n",
    "### Usage\n",
    "\n",
    "You need to download the CC359 dataset to effectively use this model. Check the [CC359](https://github.com/wdika/atommic/blob/main/projects/reconstruction/CC359/README.md) page for more information.\n",
    "\n",
    "\n",
    "## Model Architecture\n",
    "```base\n",
    "model_name: UNet\n",
    "channels: 64\n",
    "pooling_layers: 4\n",
    "in_channels: 2\n",
    "out_channels: 2\n",
    "padding_size: 11\n",
    "dropout: 0.0\n",
    "normalize: true\n",
    "norm_groups: 2\n",
    "dimensionality: 2\n",
    "reconstruction_loss:\n",
    "    l1: 0.1\n",
    "    ssim: 0.9\n",
    "```\n",
    "\n",
    "## Training\n",
    "```base\n",
    "optim:\n",
    "    name: adamw\n",
    "    lr: 1e-4\n",
    "    betas:\n",
    "        - 0.9\n",
    "        - 0.999\n",
    "    weight_decay: 0.0\n",
    "    sched:\n",
    "        name: CosineAnnealing\n",
    "        min_lr: 0.0\n",
    "        last_epoch: -1\n",
    "        warmup_ratio: 0.1\n",
    "\n",
    "trainer:\n",
    "  strategy: ddp_find_unused_parameters_false\n",
    "  accelerator: gpu\n",
    "  devices: 1\n",
    "  num_nodes: 1\n",
    "  max_epochs: 50\n",
    "  precision: 16-mixed\n",
    "  enable_checkpointing: false\n",
    "  logger: false\n",
    "  log_every_n_steps: 50\n",
    "  check_val_every_n_epoch: -1\n",
    "  max_steps: -1\n",
    "```\n",
    "\n",
    "## Performance\n",
    "\n",
    "To compute the targets using the raw k-space and the chosen coil combination method, accompanied with the chosen coil sensitivity maps estimation method, you can use [targets](https://github.com/wdika/atommic/tree/main/projects/reconstruction/CC359/conf/targets) configuration files.\n",
    "\n",
    "Evaluation can be performed using the [evaluation](https://github.com/wdika/atommic/blob/main/tools/evaluation/reconstruction.py) script for the reconstruction task.\n",
    "\n",
    "Results\n",
    "-------\n",
    "\n",
    "Evaluation against SENSE targets\n",
    "--------------------------------\n",
    "5x:  MSE = 0.00392 +/- 0.0008103 NMSE = 0.1693 +/- 0.06463 PSNR = 24.09 +/- 0.9048 SSIM = 0.7469 +/- 0.05295\n",
    "\n",
    "10x: MSE = 0.004219 +/- 0.000975 NMSE = 0.1819 +/- 0.07048 PSNR = 23.77 +/- 0.9686 SSIM = 0.7141 +/- 0.06188\n",
    "\n",
    "Evaluation against RSS targets\n",
    "------------------------------\n",
    "5x:  MSE = 0.01932 +/- 0.00842 NMSE = 0.3657 +/- 0.06804 PSNR = 17.24 +/- 1.862 SSIM = 0.6462 +/- 0.06577\n",
    "\n",
    "10x: MSE = 0.01969 +/- 0.008676 NMSE = 0.3727 +/- 0.07108 PSNR = 17.15 +/- 1.88 SSIM = 0.6136 +/- 0.06795\n",
    "\n",
    "\n",
    "## Limitations\n",
    "\n",
    "This model was trained on the CC359 using automatic coil sensitivity maps estimation and might differ from the results reported on the challenge leaderboard.\n",
    "\n",
    "\n",
    "## References\n",
    "\n",
    "[1] [ATOMMIC](https://github.com/wdika/atommic)\n",
    "\n",
    "[2] Beauferris, Y., Teuwen, J., Karkalousos, D., Moriakov, N., Caan, M., Yiasemis, G., Rodrigues, L., Lopes, A., Pedrini, H., Rittner, L., Dannecker, M., Studenyak, V., Gröger, F., Vyas, D., Faghih-Roohi, S., Kumar Jethi, A., Chandra Raju, J., Sivaprakasam, M., Lasby, M., … Souza, R. (2022). Multi-Coil MRI Reconstruction Challenge—Assessing Brain MRI Reconstruction Models and Their Generalizability to Varying Coil Configurations. Frontiers in Neuroscience, 16. https://doi.org/10.3389/fnins.2022.919186\n",
    "\"\"\""
   ]
  },
  {
   "cell_type": "markdown",
   "metadata": {
    "id": "KPa53S_5NzNp"
   },
   "source": [
    "-----\n",
    "\n",
    "Below, we will upload this model card in a temporary file called **`\"readme_template.md\"`**. This is done to prevent overwriting of the \"final\" model card that the user may have manually edited.\n",
    "\n",
    "Once this step is finished, **please copy the contents of this file, create a README.md file and paste the contents into it**."
   ]
  },
  {
   "cell_type": "code",
   "execution_count": null,
   "metadata": {
    "id": "0vk5KK4gzpSU"
   },
   "outputs": [],
   "source": [
    "local_dir = f'model-{MODEL_NAME}/'\n",
    "hf_model_name = f'{username}/{MODEL_NAME}'\n",
    "\n",
    "commit_message = \"Upload config\"\n",
    "filename = 'readme_template.md'\n",
    "\n",
    "with Repository(local_dir=local_dir, clone_from=hf_model_name, repo_type='model').commit(commit_message):\n",
    "  with open(filename, 'w') as f:\n",
    "    f.write(\"---\\n\")\n",
    "    f.write(OmegaConf.to_yaml(config))\n",
    "    f.write(\"\\n---\\n\\n\")\n",
    "    f.write(TEMPLATE)\n",
    "  "
   ]
  },
  {
   "cell_type": "markdown",
   "metadata": {
    "id": "dfXoihCQmWDa"
   },
   "source": [
    "-----\n",
    "\n",
    "Please visit the URL below to copy the contents of the `readme_template.md` file into your `README.md` file."
   ]
  },
  {
   "cell_type": "code",
   "execution_count": null,
   "metadata": {
    "id": "but-5LuLTHFd"
   },
   "outputs": [],
   "source": [
    "hf_url = f'https://huggingface.co/{username}/{MODEL_NAME}'\n",
    "print(f\"Visit {hf_url} to edit your model card from the generated template file `{filename}`\")"
   ]
  },
  {
   "cell_type": "markdown",
   "metadata": {
    "id": "5vPEnlE62dGU"
   },
   "source": [
    "## Evaluation Results\n",
    "\n",
    "Now that we have both the model checkpoint and the readme uploaded to the Hub, we can optionally add some evaluation results to the card as well!\n",
    "\n",
    "However, HF doesn't support (yet) the image-reconstruction task and logging metrics is not possible. You can log metrics for segmentation, if logging a segmentation model."
   ]
  },
  {
   "cell_type": "code",
   "execution_count": null,
   "metadata": {},
   "outputs": [],
   "source": [
    "!pip install cchardet"
   ]
  },
  {
   "cell_type": "code",
   "execution_count": null,
   "metadata": {
    "id": "rkXMtapA0YzH"
   },
   "outputs": [],
   "source": [
    "import evaluate"
   ]
  },
  {
   "cell_type": "code",
   "execution_count": null,
   "metadata": {
    "id": "5A4g3SGf4d0V"
   },
   "outputs": [],
   "source": [
    "hf_model_name = f'{username}/{MODEL_NAME}'\n",
    "\n",
    "# evaluate.push_to_hub(\n",
    "#     model_id=hf_model_name,\n",
    "#     task_type=\"segmentation\",\n",
    "#     dataset_type=\"\",\n",
    "#     dataset_name=\"\",\n",
    "#     metric_type=\"\",\n",
    "#     metric_name=\"\",\n",
    "#     dataset_split=\"\",\n",
    "#     dataset_config=\"\",\n",
    "#     metric_value=1.0,\n",
    "# )"
   ]
  },
  {
   "cell_type": "markdown",
   "metadata": {
    "id": "f3YYa7liO_m3"
   },
   "source": [
    "-----\n",
    "\n",
    "Done! Now we have a model checkpoint, a model card as well as evaluation results all set up for the ATOMMIC model on Hugging Face!\n",
    "\n",
    "To add more metrics, you can copy-paste the above cell and repeat the procedure for as many metrics as needed!"
   ]
  },
  {
   "cell_type": "markdown",
   "metadata": {},
   "source": [
    "### Optionally you might want to remove any generated dirs"
   ]
  },
  {
   "cell_type": "code",
   "execution_count": null,
   "metadata": {
    "ExecuteTime": {
     "end_time": "2023-10-04T16:02:32.958527Z",
     "start_time": "2023-10-04T16:02:32.915152Z"
    }
   },
   "outputs": [],
   "source": [
    "import os"
   ]
  },
  {
   "cell_type": "code",
   "execution_count": null,
   "metadata": {},
   "outputs": [],
   "source": [
    "# remove dir with MODEL_NAME in tutorials dir\n",
    "os.system(f\"rm -rf tutorials/{MODEL_NAME}\")\n",
    "# remove .ipynb checkpoints\n",
    "os.system(f\"rm -rf tutorials/.ipynb_checkpoints\")"
   ]
  }
 ],
 "metadata": {
  "colab": {
   "collapsed_sections": [],
   "name": "Publish_NeMo_Model_On_Hugging_Face_Hub.ipynb",
   "provenance": []
  },
  "kernelspec": {
   "display_name": "Python 3 (ipykernel)",
   "language": "python",
   "name": "python3"
  },
  "language_info": {
   "codemirror_mode": {
    "name": "ipython",
    "version": 3
   },
   "file_extension": ".py",
   "mimetype": "text/x-python",
   "name": "python",
   "nbconvert_exporter": "python",
   "pygments_lexer": "ipython3",
   "version": "3.10.0"
  }
 },
 "nbformat": 4,
 "nbformat_minor": 1
}
