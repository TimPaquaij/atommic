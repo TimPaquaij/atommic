{
 "cells": [
  {
   "cell_type": "markdown",
   "metadata": {},
   "source": [
    "### This notebook demonstrates the use of the ATOMMIC transforms on the Calgary-Campinas 359 dataset"
   ]
  },
  {
   "cell_type": "code",
   "execution_count": null,
   "metadata": {
    "ExecuteTime": {
     "end_time": "2023-10-04T01:18:27.804569Z",
     "start_time": "2023-10-04T01:18:25.194619Z"
    }
   },
   "outputs": [],
   "source": [
    "import h5py\n",
    "import torch\n",
    "import matplotlib.pyplot as plt\n",
    "import numpy as np\n",
    "\n",
    "from atommic.collections.common.parts import fft, utils\n",
    "from atommic.collections.common.parts.transforms import (\n",
    "    Composer,\n",
    "    Cropper,\n",
    "    EstimateCoilSensitivityMaps,\n",
    "    GeometricDecompositionCoilCompression,\n",
    "    N2R,\n",
    "    NoisePreWhitening,\n",
    "    SSDU,\n",
    "    SNREstimator,\n",
    "    ZeroFillingPadding\n",
    ")\n",
    "from atommic.collections.motioncorrection.parts.motionsimulation import MotionSimulation"
   ]
  },
  {
   "cell_type": "markdown",
   "metadata": {},
   "source": [
    "# Specify path where CC359 data are downloaded"
   ]
  },
  {
   "cell_type": "code",
   "execution_count": null,
   "metadata": {
    "ExecuteTime": {
     "end_time": "2023-10-04T01:18:27.810027Z",
     "start_time": "2023-10-04T01:18:27.805842Z"
    }
   },
   "outputs": [],
   "source": [
    "parent_data_path = input(\"Please enter the (downloaded) data path: \")"
   ]
  },
  {
   "cell_type": "markdown",
   "metadata": {},
   "source": [
    "# Specify data paths specific to CC359"
   ]
  },
  {
   "cell_type": "code",
   "execution_count": null,
   "metadata": {
    "ExecuteTime": {
     "end_time": "2023-10-04T01:18:27.844066Z",
     "start_time": "2023-10-04T01:18:27.809507Z"
    }
   },
   "outputs": [],
   "source": [
    "subject = 'e14110s3_P59904.7.h5'"
   ]
  },
  {
   "cell_type": "code",
   "execution_count": null,
   "metadata": {
    "ExecuteTime": {
     "end_time": "2023-10-04T01:18:27.845317Z",
     "start_time": "2023-10-04T01:18:27.834295Z"
    }
   },
   "outputs": [],
   "source": [
    "data_path = f'{parent_data_path}/calgary-campinas_version-1.0/CC359/Raw-data/Multi-channel/12-channel/Val/{subject}'\n",
    "mask_path = f'{parent_data_path}/calgary-campinas_version-1.0/CC359/poisson_sampling_h5/Val/{subject}'"
   ]
  },
  {
   "cell_type": "markdown",
   "metadata": {},
   "source": [
    "# Read the data"
   ]
  },
  {
   "cell_type": "code",
   "execution_count": null,
   "metadata": {
    "ExecuteTime": {
     "end_time": "2023-10-04T01:18:28.533849Z",
     "start_time": "2023-10-04T01:18:27.838394Z"
    }
   },
   "outputs": [],
   "source": [
    "# load the k-space\n",
    "kspace = h5py.File(data_path)['kspace'][()]"
   ]
  },
  {
   "cell_type": "code",
   "execution_count": null,
   "metadata": {
    "ExecuteTime": {
     "end_time": "2023-10-04T01:18:28.541796Z",
     "start_time": "2023-10-04T01:18:28.536788Z"
    }
   },
   "outputs": [],
   "source": [
    "kspace.shape"
   ]
  },
  {
   "cell_type": "code",
   "execution_count": null,
   "metadata": {
    "ExecuteTime": {
     "end_time": "2023-10-04T01:18:29.724166Z",
     "start_time": "2023-10-04T01:18:28.542196Z"
    }
   },
   "outputs": [],
   "source": [
    "# necessary operation for the CC359 dataset\n",
    "kspace = np.moveaxis(kspace[..., ::2] + 1j * kspace[..., 1::2], -1, 1)"
   ]
  },
  {
   "cell_type": "code",
   "execution_count": null,
   "metadata": {
    "ExecuteTime": {
     "end_time": "2023-10-04T01:18:29.734903Z",
     "start_time": "2023-10-04T01:18:29.727178Z"
    }
   },
   "outputs": [],
   "source": [
    "kspace.shape"
   ]
  },
  {
   "cell_type": "code",
   "execution_count": null,
   "metadata": {
    "ExecuteTime": {
     "end_time": "2023-10-04T01:18:29.741004Z",
     "start_time": "2023-10-04T01:18:29.732191Z"
    }
   },
   "outputs": [],
   "source": [
    "# load the masks\n",
    "mask = h5py.File(mask_path)"
   ]
  },
  {
   "cell_type": "code",
   "execution_count": null,
   "metadata": {
    "ExecuteTime": {
     "end_time": "2023-10-04T01:18:29.745848Z",
     "start_time": "2023-10-04T01:18:29.738959Z"
    }
   },
   "outputs": [],
   "source": [
    "mask.keys()"
   ]
  },
  {
   "cell_type": "code",
   "execution_count": null,
   "metadata": {
    "ExecuteTime": {
     "end_time": "2023-10-04T01:18:29.790760Z",
     "start_time": "2023-10-04T01:18:29.745486Z"
    }
   },
   "outputs": [],
   "source": [
    "# pick a mask\n",
    "mask_5x = mask['mask_5x'][()]"
   ]
  },
  {
   "cell_type": "code",
   "execution_count": null,
   "metadata": {
    "ExecuteTime": {
     "end_time": "2023-10-04T01:18:29.806615Z",
     "start_time": "2023-10-04T01:18:29.761327Z"
    }
   },
   "outputs": [],
   "source": [
    "mask_5x.shape"
   ]
  },
  {
   "cell_type": "code",
   "execution_count": null,
   "metadata": {
    "ExecuteTime": {
     "end_time": "2023-10-04T01:18:29.807029Z",
     "start_time": "2023-10-04T01:18:29.767074Z"
    }
   },
   "outputs": [],
   "source": [
    "# pick a slice\n",
    "slice_idx = 100\n",
    "kspace = kspace[slice_idx]\n",
    "mask_5x = mask_5x[slice_idx]"
   ]
  },
  {
   "cell_type": "code",
   "execution_count": null,
   "metadata": {
    "ExecuteTime": {
     "end_time": "2023-10-04T01:18:29.868225Z",
     "start_time": "2023-10-04T01:18:29.777554Z"
    }
   },
   "outputs": [],
   "source": [
    "# transform to tensor\n",
    "kspace = utils.to_tensor(kspace)\n",
    "mask_5x = utils.to_tensor(mask_5x).unsqueeze(0).unsqueeze(-1)"
   ]
  },
  {
   "cell_type": "code",
   "execution_count": null,
   "metadata": {
    "ExecuteTime": {
     "end_time": "2023-10-04T01:18:29.881721Z",
     "start_time": "2023-10-04T01:18:29.838744Z"
    }
   },
   "outputs": [],
   "source": [
    "masked_kspace = kspace * mask_5x"
   ]
  },
  {
   "cell_type": "code",
   "execution_count": null,
   "metadata": {
    "ExecuteTime": {
     "end_time": "2023-10-04T01:18:29.882695Z",
     "start_time": "2023-10-04T01:18:29.847843Z"
    }
   },
   "outputs": [],
   "source": [
    "# initialize general parameters for transformations\n",
    "fft_centered = False\n",
    "fft_normalization = 'backward'\n",
    "spatial_dims = (-2, -1)\n",
    "coil_dim = 0\n",
    "\n",
    "start = 10\n",
    "patch_length = 30 + start\n",
    "patch_size = [start, patch_length, start, patch_length]\n",
    "\n",
    "num_coils = kspace.shape[coil_dim]"
   ]
  },
  {
   "cell_type": "code",
   "execution_count": null,
   "metadata": {
    "ExecuteTime": {
     "end_time": "2023-10-04T01:18:29.882802Z",
     "start_time": "2023-10-04T01:18:29.852841Z"
    }
   },
   "outputs": [],
   "source": [
    "# initialize the SNR estimator to compare the images along transformations\n",
    "snr_estimator = SNREstimator(\n",
    "    patch_size=patch_size,\n",
    "    apply_ifft=False,\n",
    "    fft_centered=fft_centered,\n",
    "    fft_normalization=fft_normalization,\n",
    "    spatial_dims=spatial_dims,\n",
    "    coil_dim=coil_dim,\n",
    "    multicoil=True,\n",
    ")"
   ]
  },
  {
   "cell_type": "code",
   "execution_count": null,
   "metadata": {
    "ExecuteTime": {
     "end_time": "2023-10-04T01:18:30.286839Z",
     "start_time": "2023-10-04T01:18:29.859272Z"
    }
   },
   "outputs": [],
   "source": [
    "# apply the IFFT\n",
    "imspace = fft.ifft2(kspace, fft_centered, fft_normalization, spatial_dims)\n",
    "masked_imspace = fft.ifft2(masked_kspace, fft_centered, fft_normalization, spatial_dims)\n",
    "# normalize the image for consistent visualization\n",
    "imspace = imspace / torch.max(torch.abs(imspace))\n",
    "masked_imspace = masked_imspace / torch.max(torch.abs(masked_imspace))\n",
    "# compute the SNR of the image\n",
    "imspace_snr = snr_estimator(imspace)\n",
    "masked_imspace_snr = snr_estimator(masked_imspace)\n",
    "# stack all coils for visualization\n",
    "imspace_all_coils = torch.view_as_complex(torch.cat([imspace[i] for i in range(num_coils)], dim=-2))\n",
    "masked_imspace_all_coils = torch.view_as_complex(torch.cat([masked_imspace[i] for i in range(num_coils)], dim=-2))\n",
    "# compute the covariance matrix\n",
    "covariance_imspace_all_coils = torch.abs(imspace_all_coils) @ torch.abs(imspace_all_coils).conj().T\n",
    "covariance_masked_imspace_all_coils = torch.abs(masked_imspace_all_coils) @ torch.abs(masked_imspace_all_coils).conj().T\n",
    "# compute the RSS target\n",
    "rss_target = utils.rss_complex(imspace, coil_dim)\n",
    "masked_rss_target = utils.rss_complex(masked_imspace, coil_dim)"
   ]
  },
  {
   "cell_type": "code",
   "execution_count": null,
   "metadata": {
    "ExecuteTime": {
     "end_time": "2023-10-04T01:18:30.793909Z",
     "start_time": "2023-10-04T01:18:30.291691Z"
    }
   },
   "outputs": [],
   "source": [
    "plt.figure(figsize=(10, 10))\n",
    "plt.imshow(torch.abs(imspace_all_coils), cmap='gray')\n",
    "plt.title(f'Fully-sampled {num_coils}-coils - SNR {imspace_snr:.2f}', fontsize=14)\n",
    "plt.axis('off')\n",
    "plt.figure(figsize=(10, 10))\n",
    "plt.imshow(torch.abs(masked_imspace_all_coils), cmap='gray')\n",
    "plt.title(f'Undersampled 5x {num_coils}-coils - SNR {masked_imspace_snr:.2f}', fontsize=14)\n",
    "plt.axis('off')\n",
    "plt.show()\n",
    "\n",
    "plt.figure(figsize=(10, 10))\n",
    "plt.subplot(1, 4, 1)\n",
    "plt.imshow(torch.abs(rss_target), cmap='gray')\n",
    "plt.title('Fully-sampled RSS', fontsize=14)\n",
    "plt.axis('off')\n",
    "plt.subplot(1, 4, 2)\n",
    "plt.imshow(covariance_imspace_all_coils, cmap='gray')\n",
    "plt.title('Fully-sampled \\n Covariance matrix Ψ', fontsize=14)\n",
    "plt.axis('off')\n",
    "plt.subplot(1, 4, 3)\n",
    "plt.imshow(torch.abs(masked_rss_target), cmap='gray')\n",
    "plt.title('Undersampled 5x RSS', fontsize=14)\n",
    "plt.axis('off')\n",
    "plt.subplot(1, 4, 4)\n",
    "plt.imshow(covariance_masked_imspace_all_coils, cmap='gray')\n",
    "plt.title('Undersampled 5x \\n covariance matrix Ψ', fontsize=14)\n",
    "plt.axis('off')\n",
    "plt.show()"
   ]
  },
  {
   "cell_type": "markdown",
   "metadata": {},
   "source": [
    "***\n",
    "# ATOMMIC Transforms\n",
    "***"
   ]
  },
  {
   "cell_type": "markdown",
   "metadata": {},
   "source": [
    "# Cropping"
   ]
  },
  {
   "cell_type": "code",
   "execution_count": null,
   "metadata": {
    "ExecuteTime": {
     "end_time": "2023-10-04T01:18:30.794227Z",
     "start_time": "2023-10-04T01:18:30.786773Z"
    }
   },
   "outputs": [],
   "source": [
    "# initialize the transformer\n",
    "cropping = Cropper(\n",
    "    cropping_size=[160, 160],\n",
    "    fft_centered=fft_centered,\n",
    "    fft_normalization=fft_normalization,\n",
    "    spatial_dims=spatial_dims,\n",
    ")"
   ]
  },
  {
   "cell_type": "code",
   "execution_count": null,
   "metadata": {
    "ExecuteTime": {
     "end_time": "2023-10-04T01:18:30.865136Z",
     "start_time": "2023-10-04T01:18:30.789253Z"
    }
   },
   "outputs": [],
   "source": [
    "# call the transformer\n",
    "cropped_kspace = cropping(kspace)\n",
    "cropped_imspace = cropping(imspace)\n",
    "# apply the IFFT\n",
    "cropped_kspace_imspace = fft.ifft2(cropped_kspace, fft_centered, fft_normalization, spatial_dims)\n",
    "# normalize the image for consistent visualization\n",
    "cropped_kspace_imspace = cropped_kspace_imspace / torch.max(torch.abs(cropped_kspace_imspace))\n",
    "cropped_imspace = cropped_imspace / torch.max(torch.abs(cropped_imspace))\n",
    "# compute the RSS target\n",
    "cropped_kspace_imspace_rss_target = utils.rss_complex(cropped_kspace_imspace, coil_dim)\n",
    "cropped_imspace_rss_target = utils.rss_complex(cropped_imspace, coil_dim)"
   ]
  },
  {
   "cell_type": "code",
   "execution_count": null,
   "metadata": {
    "ExecuteTime": {
     "end_time": "2023-10-04T01:18:31.336291Z",
     "start_time": "2023-10-04T01:18:30.870898Z"
    }
   },
   "outputs": [],
   "source": [
    "plt.figure(figsize=(10, 10))\n",
    "plt.subplot(1, 3, 1)\n",
    "plt.imshow(rss_target, cmap='gray')\n",
    "plt.title('Fully-sampled RSS', fontsize=14)\n",
    "plt.axis('off')\n",
    "plt.subplot(1, 3, 2)\n",
    "plt.imshow(cropped_kspace_imspace_rss_target, cmap='gray')\n",
    "plt.title('k-space crop \\n fully-sampled RSS', fontsize=14)\n",
    "plt.axis('off')\n",
    "plt.subplot(1, 3, 3)\n",
    "plt.imshow(cropped_imspace_rss_target, cmap='gray')\n",
    "plt.title('Imspace crop \\n fully-sampled RSS', fontsize=14)\n",
    "plt.axis('off')\n",
    "plt.show()"
   ]
  },
  {
   "cell_type": "markdown",
   "metadata": {},
   "source": [
    "# Estimation of Coil Sensitivity Maps"
   ]
  },
  {
   "cell_type": "code",
   "execution_count": null,
   "metadata": {
    "ExecuteTime": {
     "end_time": "2023-10-04T01:18:31.347277Z",
     "start_time": "2023-10-04T01:18:31.338930Z"
    }
   },
   "outputs": [],
   "source": [
    "# initialize the transformer\n",
    "coil_sensitivity_maps_estimator = EstimateCoilSensitivityMaps(\n",
    "    coil_sensitivity_maps_type=\"rss\",\n",
    "    gaussian_sigma=None,\n",
    "    espirit_threshold=0.05,\n",
    "    espirit_kernel_size=6,\n",
    "    espirit_crop=0.95,\n",
    "    espirit_max_iters=30,\n",
    "    fft_centered=fft_centered,\n",
    "    fft_normalization=fft_normalization,\n",
    "    spatial_dims=spatial_dims,\n",
    "    coil_dim=coil_dim,\n",
    ")"
   ]
  },
  {
   "cell_type": "code",
   "execution_count": null,
   "metadata": {
    "ExecuteTime": {
     "end_time": "2023-10-04T01:18:31.405139Z",
     "start_time": "2023-10-04T01:18:31.343143Z"
    }
   },
   "outputs": [],
   "source": [
    "# call the transformer\n",
    "coil_sensitivity_maps = coil_sensitivity_maps_estimator(kspace)\n",
    "# normalize the image for consistent visualization\n",
    "coil_sensitivity_maps = coil_sensitivity_maps / torch.max(torch.abs(coil_sensitivity_maps))\n",
    "# compute the RSS target\n",
    "coil_sensitivity_maps_rss_target = utils.rss_complex(coil_sensitivity_maps, coil_dim)\n",
    "# compute the SENSE target\n",
    "sense_target = torch.abs(torch.view_as_complex(utils.sense(imspace, coil_sensitivity_maps, coil_dim)))"
   ]
  },
  {
   "cell_type": "code",
   "execution_count": null,
   "metadata": {
    "ExecuteTime": {
     "end_time": "2023-10-04T01:18:31.595489Z",
     "start_time": "2023-10-04T01:18:31.391313Z"
    }
   },
   "outputs": [],
   "source": [
    "plt.figure(figsize=(10, 10))\n",
    "plt.subplot(1, 3, 1)\n",
    "plt.imshow(coil_sensitivity_maps_rss_target, cmap='gray')\n",
    "plt.title('Coil sensitivity maps RSS', fontsize=14)\n",
    "plt.axis('off')\n",
    "plt.subplot(1, 3, 2)\n",
    "plt.imshow(rss_target, cmap='gray')\n",
    "plt.title('Fully-sampled RSS', fontsize=14)\n",
    "plt.axis('off')\n",
    "plt.subplot(1, 3, 3)\n",
    "plt.imshow(sense_target, cmap='gray')\n",
    "plt.title('Fully-sampled SENSE', fontsize=14)\n",
    "plt.axis('off')\n",
    "plt.show()"
   ]
  },
  {
   "cell_type": "markdown",
   "metadata": {},
   "source": [
    "# Geometric Decomposition Coil Compression"
   ]
  },
  {
   "cell_type": "code",
   "execution_count": null,
   "metadata": {
    "ExecuteTime": {
     "end_time": "2023-10-04T01:18:31.603691Z",
     "start_time": "2023-10-04T01:18:31.599150Z"
    }
   },
   "outputs": [],
   "source": [
    "# initialize the transformer\n",
    "virtual_coils = 4\n",
    "gdcc = GeometricDecompositionCoilCompression(\n",
    "    virtual_coils=virtual_coils,\n",
    "    calib_lines=6,\n",
    "    align_data=True,\n",
    "    fft_centered=fft_centered,\n",
    "    fft_normalization=fft_normalization,\n",
    "    spatial_dims=spatial_dims,\n",
    ")"
   ]
  },
  {
   "cell_type": "code",
   "execution_count": null,
   "metadata": {
    "ExecuteTime": {
     "end_time": "2023-10-04T01:18:31.744239Z",
     "start_time": "2023-10-04T01:18:31.608440Z"
    }
   },
   "outputs": [],
   "source": [
    "# call the transformer\n",
    "coil_compressed_kspace = gdcc(kspace)\n",
    "# apply the IFFT\n",
    "coil_compressed_imspace = fft.ifft2(coil_compressed_kspace, fft_centered, fft_normalization, spatial_dims)\n",
    "coil_compressed_imspace = torch.flip(coil_compressed_imspace, [2])\n",
    "# normalize the image for consistent visualization\n",
    "coil_compressed_imspace = coil_compressed_imspace / torch.max(torch.abs(coil_compressed_imspace))\n",
    "# compute the SNR for the transformed image\n",
    "coil_compressed_imspace_snr = snr_estimator(coil_compressed_imspace)\n",
    "# stack all coils for visualization\n",
    "coil_compressed_imspace_all_coils = torch.view_as_complex(torch.cat([coil_compressed_imspace[i] for i in range(virtual_coils)], dim=-2))\n",
    "# compute the SNR for the transformed image\n",
    "coil_compressed_rss_target = utils.rss_complex(coil_compressed_imspace, coil_dim)"
   ]
  },
  {
   "cell_type": "code",
   "execution_count": null,
   "metadata": {
    "ExecuteTime": {
     "end_time": "2023-10-04T01:18:32.153006Z",
     "start_time": "2023-10-04T01:18:31.750908Z"
    }
   },
   "outputs": [],
   "source": [
    "plt.figure(figsize=(10, 10))\n",
    "plt.imshow(torch.abs(imspace_all_coils), cmap='gray')\n",
    "plt.title(f'Fully-sampled {num_coils}-coils - SNR {imspace_snr:.2f}', fontsize=14)\n",
    "plt.axis('off')\n",
    "plt.show()\n",
    "plt.figure(figsize=(10, 10))\n",
    "plt.imshow(torch.abs(coil_compressed_imspace_all_coils), cmap='gray')\n",
    "plt.title(f'{virtual_coils}-coils compressed fully-sampled - SNR {coil_compressed_imspace_snr:.2f}', fontsize=14)\n",
    "plt.axis('off')\n",
    "plt.show()\n",
    "\n",
    "plt.figure(figsize=(10, 10))\n",
    "plt.subplot(1, 3, 1)\n",
    "plt.imshow(rss_target, cmap='gray')\n",
    "plt.title('Fully-sampled RSS', fontsize=14)\n",
    "plt.axis('off')\n",
    "plt.subplot(1, 3, 2)\n",
    "plt.imshow(coil_compressed_rss_target, cmap='gray')\n",
    "plt.title(f'{virtual_coils}-coils compressed \\n fully-sampled RSS', fontsize=14)\n",
    "plt.axis('off')\n",
    "plt.subplot(1, 3, 3)\n",
    "plt.imshow(torch.abs(rss_target) - torch.abs(coil_compressed_rss_target), cmap='gray')\n",
    "plt.title('Difference', fontsize=14)\n",
    "plt.axis('off')\n",
    "plt.show()"
   ]
  },
  {
   "cell_type": "markdown",
   "metadata": {},
   "source": [
    "# Motion Simulation"
   ]
  },
  {
   "cell_type": "code",
   "execution_count": null,
   "metadata": {
    "ExecuteTime": {
     "end_time": "2023-10-04T01:18:32.158312Z",
     "start_time": "2023-10-04T01:18:32.154144Z"
    }
   },
   "outputs": [],
   "source": [
    "# initialize the transformer\n",
    "random_motion = MotionSimulation(\n",
    "    motion_type=\"piecewise_transient\",\n",
    "    angle=10,\n",
    "    translation=10,\n",
    "    center_percentage=0.02,\n",
    "    motion_percentage=[30, 30],\n",
    "    num_segments=8,\n",
    "    random_num_segments=False,\n",
    "    non_uniform=False,\n",
    "    spatial_dims=spatial_dims,\n",
    ")"
   ]
  },
  {
   "cell_type": "code",
   "execution_count": null,
   "metadata": {
    "ExecuteTime": {
     "end_time": "2023-10-04T01:18:32.209517Z",
     "start_time": "2023-10-04T01:18:32.159295Z"
    }
   },
   "outputs": [],
   "source": [
    "# call the transformer\n",
    "motion_corrupted_kspace = random_motion(kspace)\n",
    "# apply the IFFT\n",
    "motion_corrupted_imspace = fft.ifft2(motion_corrupted_kspace, fft_centered, fft_normalization, spatial_dims)\n",
    "# normalize the image for consistent visualization\n",
    "motion_corrupted_imspace = motion_corrupted_imspace / torch.max(torch.abs(motion_corrupted_imspace))\n",
    "# stack all coils for visualization\n",
    "motion_corrupted_imspace_all_coils = torch.view_as_complex(torch.cat([motion_corrupted_imspace[i] for i in range(num_coils)], dim=-2))\n",
    "# compute the RSS target\n",
    "motion_corrupted_rss_target = utils.rss_complex(motion_corrupted_imspace, coil_dim)"
   ]
  },
  {
   "cell_type": "code",
   "execution_count": null,
   "metadata": {
    "ExecuteTime": {
     "end_time": "2023-10-04T01:18:32.406961Z",
     "start_time": "2023-10-04T01:18:32.226746Z"
    }
   },
   "outputs": [],
   "source": [
    "plt.figure(figsize=(10, 10))\n",
    "plt.subplot(1, 3, 1)\n",
    "plt.imshow(rss_target, cmap='gray')\n",
    "plt.title(f'Fully-sampled RSS', fontsize=14)\n",
    "plt.axis('off')\n",
    "plt.subplot(1, 3, 2)\n",
    "plt.imshow(motion_corrupted_rss_target, cmap='gray')\n",
    "plt.title(f'Motion corrupted RSS', fontsize=14)\n",
    "plt.axis('off')\n",
    "plt.subplot(1, 3, 3)\n",
    "plt.imshow(torch.abs(rss_target) - torch.abs(motion_corrupted_rss_target), cmap='gray')\n",
    "plt.title('Difference', fontsize=14)\n",
    "plt.axis('off')\n",
    "plt.show()"
   ]
  },
  {
   "cell_type": "markdown",
   "metadata": {},
   "source": [
    "# Noise 2 Recon"
   ]
  },
  {
   "cell_type": "code",
   "execution_count": null,
   "metadata": {
    "ExecuteTime": {
     "end_time": "2023-10-04T01:18:32.452137Z",
     "start_time": "2023-10-04T01:18:32.406460Z"
    }
   },
   "outputs": [],
   "source": [
    "# initialize the transformer\n",
    "n2r_masking = N2R(\n",
    "    probability=1.0,\n",
    "    std_devs=(0.4, 0.4),\n",
    "    rhos=(0.4, 0.4),\n",
    "    use_mask=False,\n",
    ")"
   ]
  },
  {
   "cell_type": "code",
   "execution_count": null,
   "metadata": {
    "ExecuteTime": {
     "end_time": "2023-10-04T01:18:32.496505Z",
     "start_time": "2023-10-04T01:18:32.446718Z"
    }
   },
   "outputs": [],
   "source": [
    "# call the transformer\n",
    "n2r_mask = n2r_masking(kspace, mask_5x)\n",
    "n2r_masked_kspace = masked_kspace * n2r_mask\n",
    "# apply the IFFT\n",
    "n2r_masked_imspace = fft.ifft2(n2r_masked_kspace, fft_centered, fft_normalization, spatial_dims)\n",
    "# normalize the image for consistent visualization\n",
    "n2r_masked_imspace = n2r_masked_imspace / torch.max(torch.abs(n2r_masked_imspace))\n",
    "# compute the RSS target\n",
    "n2r_masked_rss_target = utils.rss_complex(n2r_masked_imspace, coil_dim)"
   ]
  },
  {
   "cell_type": "code",
   "execution_count": null,
   "metadata": {
    "ExecuteTime": {
     "end_time": "2023-10-04T01:18:32.661464Z",
     "start_time": "2023-10-04T01:18:32.486575Z"
    }
   },
   "outputs": [],
   "source": [
    "plt.figure(figsize=(10, 10))\n",
    "plt.subplot(1, 3, 1)\n",
    "plt.imshow(rss_target, cmap='gray')\n",
    "plt.title(f'Fully-sampled RSS', fontsize=14)\n",
    "plt.axis('off')\n",
    "plt.subplot(1, 3, 2)\n",
    "plt.imshow(masked_rss_target, cmap='gray')\n",
    "plt.title(f'Undersampled 5x RSS', fontsize=14)\n",
    "plt.axis('off')\n",
    "plt.subplot(1, 3, 3)\n",
    "plt.imshow(n2r_masked_rss_target, cmap='gray')\n",
    "plt.title(f'N2R RSS', fontsize=14)\n",
    "plt.axis('off')\n",
    "plt.show()"
   ]
  },
  {
   "cell_type": "markdown",
   "metadata": {},
   "source": [
    "# Noise Prewhitening"
   ]
  },
  {
   "cell_type": "code",
   "execution_count": null,
   "metadata": {
    "ExecuteTime": {
     "end_time": "2023-10-04T01:18:32.712611Z",
     "start_time": "2023-10-04T01:18:32.664550Z"
    }
   },
   "outputs": [],
   "source": [
    "# initialize the transformer\n",
    "noise_prewhitening = NoisePreWhitening(\n",
    "    find_patch_size=False,\n",
    "    patch_size=patch_size,\n",
    "    scale_factor=1.0,\n",
    "    fft_centered=fft_centered,\n",
    "    fft_normalization=fft_normalization,\n",
    "    spatial_dims=spatial_dims,\n",
    ")"
   ]
  },
  {
   "cell_type": "code",
   "execution_count": null,
   "metadata": {
    "ExecuteTime": {
     "end_time": "2023-10-04T01:18:32.755369Z",
     "start_time": "2023-10-04T01:18:32.704613Z"
    }
   },
   "outputs": [],
   "source": [
    "# call the transformer\n",
    "prewhitened_kspace = noise_prewhitening(kspace)\n",
    "# apply the IFFT\n",
    "prewhitened_imspace = fft.ifft2(prewhitened_kspace, fft_centered, fft_normalization, spatial_dims)\n",
    "# normalize the image for consistent visualization\n",
    "prewhitened_imspace = prewhitened_imspace / torch.max(torch.abs(prewhitened_imspace))\n",
    "# compute the SNR for the transformed image\n",
    "prewhitened_imspace_snr = snr_estimator(prewhitened_imspace)\n",
    "# stack all coils for visualization\n",
    "prewhitened_imspace_all_coils = torch.view_as_complex(torch.cat([prewhitened_imspace[i] for i in range(num_coils)], dim=-2))\n",
    "# compute the RSS target\n",
    "prewhitened_rss_target = utils.rss_complex(prewhitened_imspace, coil_dim)\n",
    "# compute the covariance matrix\n",
    "covariance_prewhitened_imspace_all_coils = torch.abs(prewhitened_imspace_all_coils) @ torch.abs(prewhitened_imspace_all_coils).conj().T"
   ]
  },
  {
   "cell_type": "code",
   "execution_count": null,
   "metadata": {
    "ExecuteTime": {
     "end_time": "2023-10-04T01:18:33.295616Z",
     "start_time": "2023-10-04T01:18:32.744549Z"
    }
   },
   "outputs": [],
   "source": [
    "plt.figure(figsize=(10, 10))\n",
    "plt.imshow(torch.abs(imspace_all_coils), cmap='gray')\n",
    "plt.title(f'Fully-sampled {num_coils}-coils - SNR {imspace_snr:.2f}', fontsize=14)\n",
    "plt.axis('off')\n",
    "plt.show()\n",
    "plt.figure(figsize=(10, 10))\n",
    "plt.imshow(torch.abs(prewhitened_imspace_all_coils), cmap='gray')\n",
    "plt.title(f'Prewhitened fully-sampled {num_coils}-coils - SNR {prewhitened_imspace_snr:.2f}', fontsize=14)\n",
    "plt.axis('off')\n",
    "plt.show()\n",
    "plt.figure(figsize=(10, 10))\n",
    "plt.imshow(torch.abs(imspace_all_coils) - torch.abs(prewhitened_imspace_all_coils), cmap='gray')\n",
    "plt.title('Difference', fontsize=14)\n",
    "plt.axis('off')\n",
    "plt.show()\n",
    "\n",
    "plt.figure(figsize=(10, 10))\n",
    "plt.subplot(1, 3, 1)\n",
    "plt.imshow(rss_target, cmap='gray')\n",
    "plt.title('Fully-sampled RSS', fontsize=14)\n",
    "plt.axis('off')\n",
    "plt.subplot(1, 3, 2)\n",
    "plt.imshow(prewhitened_rss_target, cmap='gray')\n",
    "plt.title('Prewhitened \\n fully-sampled RSS', fontsize=14)\n",
    "plt.axis('off')\n",
    "plt.subplot(1, 3, 3)\n",
    "plt.imshow(torch.abs(rss_target) - torch.abs(prewhitened_rss_target), cmap='gray')\n",
    "plt.title('Difference', fontsize=14)\n",
    "plt.axis('off')\n",
    "plt.show()\n",
    "\n",
    "plt.figure(figsize=(10, 10))\n",
    "plt.subplot(1, 2, 1)\n",
    "plt.imshow(covariance_imspace_all_coils, cmap='gray')\n",
    "plt.title('Fully-sampled \\n Covariance matrix Ψ', fontsize=14)\n",
    "plt.axis('off')\n",
    "plt.subplot(1, 2, 2)\n",
    "plt.imshow(covariance_prewhitened_imspace_all_coils, cmap='gray')\n",
    "plt.title('Prewhitened fully-sampled \\n covariance matrix Ψ', fontsize=14)\n",
    "plt.axis('off')\n",
    "plt.show()"
   ]
  },
  {
   "cell_type": "markdown",
   "metadata": {},
   "source": [
    "# Self-Supervised Data Undersampling (SSDU)"
   ]
  },
  {
   "cell_type": "code",
   "execution_count": null,
   "metadata": {
    "ExecuteTime": {
     "end_time": "2023-10-04T01:18:33.307374Z",
     "start_time": "2023-10-04T01:18:33.296212Z"
    }
   },
   "outputs": [],
   "source": [
    "# initialize the transformer\n",
    "ssdu_masking = SSDU(\n",
    "    mask_type=\"Gaussian\",\n",
    "    rho=0.4,\n",
    "    acs_block_size=(4, 4),\n",
    "    gaussian_std_scaling_factor=4.0,\n",
    "    outer_kspace_fraction=0.0,\n",
    "    export_and_reuse_masks=False,\n",
    ")"
   ]
  },
  {
   "cell_type": "code",
   "execution_count": null,
   "metadata": {
    "ExecuteTime": {
     "end_time": "2023-10-04T01:18:57.256645Z",
     "start_time": "2023-10-04T01:18:56.663021Z"
    }
   },
   "outputs": [],
   "source": [
    "# call the transformer\n",
    "ssdu_train_mask, ssdu_loss_mask = ssdu_masking(kspace, mask_5x.squeeze(), subject)\n",
    "ssdu_train_masked_kspace = kspace * ssdu_train_mask.unsqueeze(0).unsqueeze(-1)\n",
    "ssdu_loss_masked_kspace = kspace * ssdu_loss_mask.unsqueeze(0).unsqueeze(-1)\n",
    "# apply the IFFT\n",
    "ssdu_train_masked_imspace = fft.ifft2(ssdu_train_masked_kspace, fft_centered, fft_normalization, spatial_dims)\n",
    "ssdu_loss_masked_imspace = fft.ifft2(ssdu_loss_masked_kspace, fft_centered, fft_normalization, spatial_dims)\n",
    "# normalize the image for consistent visualization\n",
    "ssdu_train_masked_imspace = ssdu_train_masked_imspace / torch.max(torch.abs(ssdu_train_masked_imspace))\n",
    "ssdu_loss_masked_imspace = ssdu_loss_masked_imspace / torch.max(torch.abs(ssdu_loss_masked_imspace))\n",
    "# compute the RSS target\n",
    "ssdu_train_masked_rss_target = utils.rss_complex(ssdu_train_masked_imspace, coil_dim)\n",
    "ssdu_loss_masked_rss_target = utils.rss_complex(ssdu_loss_masked_imspace, coil_dim)"
   ]
  },
  {
   "cell_type": "code",
   "execution_count": null,
   "metadata": {
    "ExecuteTime": {
     "end_time": "2023-10-04T01:21:44.856870Z",
     "start_time": "2023-10-04T01:21:44.598403Z"
    }
   },
   "outputs": [],
   "source": [
    "plt.figure(figsize=(10, 10))\n",
    "plt.subplot(1, 3, 1)\n",
    "plt.imshow(rss_target, cmap='gray')\n",
    "plt.title(f'Fully-sampled RSS', fontsize=14)\n",
    "plt.axis('off')\n",
    "plt.subplot(1, 3, 2)\n",
    "plt.imshow(ssdu_train_masked_rss_target, cmap='gray')\n",
    "plt.title(f'SSDU train masked RSS', fontsize=14)\n",
    "plt.axis('off')\n",
    "plt.subplot(1, 3, 3)\n",
    "plt.imshow(ssdu_loss_masked_rss_target, cmap='gray')\n",
    "plt.title(f'SSDU loss masked RSS', fontsize=14)\n",
    "plt.axis('off')\n",
    "plt.show()"
   ]
  },
  {
   "cell_type": "markdown",
   "metadata": {},
   "source": [
    "# Zero-Filling k-space"
   ]
  },
  {
   "cell_type": "code",
   "execution_count": null,
   "metadata": {
    "ExecuteTime": {
     "end_time": "2023-10-04T00:51:43.376391Z",
     "start_time": "2023-10-04T00:51:43.372168Z"
    }
   },
   "outputs": [],
   "source": [
    "# initialize the transformer\n",
    "kspace_zero_filling = ZeroFillingPadding(\n",
    "    zero_filling_size=(300, 300),\n",
    "    fft_centered=fft_centered,\n",
    "    fft_normalization=fft_normalization,\n",
    "    spatial_dims=spatial_dims,\n",
    ")"
   ]
  },
  {
   "cell_type": "code",
   "execution_count": null,
   "metadata": {
    "ExecuteTime": {
     "end_time": "2023-10-04T00:51:43.454780Z",
     "start_time": "2023-10-04T00:51:43.376114Z"
    }
   },
   "outputs": [],
   "source": [
    "# call the transformer\n",
    "kspace_zero_filled = kspace_zero_filling(kspace)\n",
    "# apply the IFFT\n",
    "imspace_zero_filled = fft.ifft2(kspace_zero_filled, fft_centered, fft_normalization, spatial_dims)\n",
    "# normalize the image for consistent visualization\n",
    "imspace_zero_filled = imspace_zero_filled / torch.max(torch.abs(imspace_zero_filled))\n",
    "# compute the RSS target\n",
    "imspace_zero_filled_rss_target = utils.rss_complex(imspace_zero_filled, coil_dim)"
   ]
  },
  {
   "cell_type": "code",
   "execution_count": null,
   "metadata": {
    "ExecuteTime": {
     "end_time": "2023-10-04T00:51:43.605524Z",
     "start_time": "2023-10-04T00:51:43.473307Z"
    }
   },
   "outputs": [],
   "source": [
    "plt.figure(figsize=(10, 10))\n",
    "plt.subplot(2, 1, 1)\n",
    "plt.imshow(rss_target, cmap='gray')\n",
    "plt.title('Fully-sampled RSS', fontsize=14)\n",
    "plt.axis('off')\n",
    "plt.subplot(2, 1, 2)\n",
    "plt.imshow(imspace_zero_filled_rss_target, cmap='gray')\n",
    "plt.title(f'Zero-filled fully-sampled RSS', fontsize=14)\n",
    "plt.axis('off')\n",
    "plt.show()"
   ]
  },
  {
   "cell_type": "markdown",
   "metadata": {},
   "source": [
    "# Composer"
   ]
  },
  {
   "cell_type": "code",
   "execution_count": null,
   "metadata": {},
   "outputs": [],
   "source": [
    "gdcc_noise_prewhitening = Composer([noise_prewhitening, gdcc])"
   ]
  },
  {
   "cell_type": "code",
   "execution_count": null,
   "metadata": {},
   "outputs": [],
   "source": [
    "# call the transformer\n",
    "coil_compressed_prewhitened_kspace = gdcc_noise_prewhitening(kspace)\n",
    "# apply the IFFT\n",
    "coil_compressed_prewhitened_imspace = fft.ifft2(coil_compressed_prewhitened_kspace, fft_centered, fft_normalization, spatial_dims)\n",
    "coil_compressed_prewhitened_imspace = torch.flip(coil_compressed_prewhitened_imspace, [2])\n",
    "# normalize the image for consistent visualization\n",
    "coil_compressed_prewhitened_imspace = coil_compressed_prewhitened_imspace / torch.max(torch.abs(coil_compressed_prewhitened_imspace))\n",
    "# compute the SNR for the transformed image\n",
    "coil_compressed_prewhitened_imspace_snr = snr_estimator(coil_compressed_prewhitened_imspace)\n",
    "# stack all coils for visualization\n",
    "coil_compressed_prewhitened_imspace_all_coils = torch.view_as_complex(torch.cat([coil_compressed_prewhitened_imspace[i] for i in range(virtual_coils)], dim=-2))\n",
    "# compute the SNR for the transformed image\n",
    "coil_compressed_prewhitened_rss_target = utils.rss_complex(coil_compressed_prewhitened_imspace, coil_dim)\n",
    "# compute the covariance matrix\n",
    "covariance_coil_compressed_prewhitened_imspace_all_coils = torch.abs(coil_compressed_prewhitened_imspace_all_coils) @ torch.abs(coil_compressed_prewhitened_imspace_all_coils).conj().T"
   ]
  },
  {
   "cell_type": "code",
   "execution_count": null,
   "metadata": {},
   "outputs": [],
   "source": [
    "plt.figure(figsize=(10, 10))\n",
    "plt.imshow(torch.abs(imspace_all_coils), cmap='gray')\n",
    "plt.title(f'Fully-sampled {num_coils}-coils - SNR {imspace_snr:.2f}', fontsize=14)\n",
    "plt.axis('off')\n",
    "plt.show()\n",
    "plt.figure(figsize=(10, 10))\n",
    "plt.imshow(torch.abs(coil_compressed_prewhitened_imspace_all_coils), cmap='gray')\n",
    "plt.title(f'{virtual_coils}-coils compressed prewhitened fully-sampled - SNR {coil_compressed_prewhitened_imspace_snr:.2f}', fontsize=14)\n",
    "plt.axis('off')\n",
    "plt.show()\n",
    "\n",
    "plt.figure(figsize=(10, 10))\n",
    "plt.subplot(1, 3, 1)\n",
    "plt.imshow(rss_target, cmap='gray')\n",
    "plt.title('Fully-sampled RSS', fontsize=14)\n",
    "plt.axis('off')\n",
    "plt.subplot(1, 3, 2)\n",
    "plt.imshow(coil_compressed_prewhitened_rss_target, cmap='gray')\n",
    "plt.title(f'{virtual_coils}-coils compressed \\n prewhitened \\n fully-sampled RSS', fontsize=14)\n",
    "plt.axis('off')\n",
    "plt.subplot(1, 3, 3)\n",
    "plt.imshow(torch.abs(rss_target) - torch.abs(coil_compressed_prewhitened_rss_target), cmap='gray')\n",
    "plt.title('Difference', fontsize=14)\n",
    "plt.axis('off')\n",
    "plt.show()\n",
    "\n",
    "plt.figure(figsize=(10, 10))\n",
    "plt.subplot(1, 2, 1)\n",
    "plt.imshow(covariance_imspace_all_coils, cmap='gray')\n",
    "plt.title('Fully-sampled \\n Covariance matrix Ψ', fontsize=14)\n",
    "plt.axis('off')\n",
    "plt.subplot(1, 2, 2)\n",
    "plt.imshow(covariance_coil_compressed_prewhitened_imspace_all_coils, cmap='gray')\n",
    "plt.title(f'{virtual_coils}-coils compressed \\n prewhitened \\n fully-sampled \\n covariance matrix Ψ', fontsize=14)\n",
    "plt.axis('off')\n",
    "plt.show()"
   ]
  }
 ],
 "metadata": {
  "kernelspec": {
   "display_name": "Python 3 (ipykernel)",
   "language": "python",
   "name": "python3"
  },
  "language_info": {
   "codemirror_mode": {
    "name": "ipython",
    "version": 3
   },
   "file_extension": ".py",
   "mimetype": "text/x-python",
   "name": "python",
   "nbconvert_exporter": "python",
   "pygments_lexer": "ipython3",
   "version": "3.10.0"
  }
 },
 "nbformat": 4,
 "nbformat_minor": 1
}
