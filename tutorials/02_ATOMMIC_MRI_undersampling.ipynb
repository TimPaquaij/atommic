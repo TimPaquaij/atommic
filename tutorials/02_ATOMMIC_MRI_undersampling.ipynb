{
 "cells": [
  {
   "cell_type": "markdown",
   "metadata": {},
   "source": [
    "### This notebook demonstrates how to undersample and transform k-space data using ATOMMIC. Here we use the Calgary-Campinas 359 dataset."
   ]
  },
  {
   "cell_type": "code",
   "execution_count": null,
   "metadata": {
    "ExecuteTime": {
     "end_time": "2023-10-04T01:59:59.405089Z",
     "start_time": "2023-10-04T01:59:56.829007Z"
    }
   },
   "outputs": [],
   "source": [
    "import h5py\n",
    "import torch\n",
    "import matplotlib.pyplot as plt\n",
    "import numpy as np\n",
    "\n",
    "from atommic.collections.common.data.subsample import create_masker\n",
    "from atommic.collections.common.parts import fft, utils"
   ]
  },
  {
   "cell_type": "markdown",
   "metadata": {},
   "source": [
    "# Specify path where CC359 data are downloaded"
   ]
  },
  {
   "cell_type": "code",
   "execution_count": null,
   "metadata": {
    "ExecuteTime": {
     "end_time": "2023-10-04T01:59:59.405725Z",
     "start_time": "2023-10-04T01:59:59.404618Z"
    }
   },
   "outputs": [],
   "source": [
    "parent_data_path = input(\"Please enter the (downloaded) data path: \")"
   ]
  },
  {
   "cell_type": "markdown",
   "metadata": {},
   "source": [
    "# Specify data paths specific to CC359"
   ]
  },
  {
   "cell_type": "code",
   "execution_count": null,
   "metadata": {
    "ExecuteTime": {
     "end_time": "2023-10-04T01:59:59.405826Z",
     "start_time": "2023-10-04T01:59:59.404690Z"
    }
   },
   "outputs": [],
   "source": [
    "subject = 'e14110s3_P59904.7.h5'"
   ]
  },
  {
   "cell_type": "code",
   "execution_count": null,
   "metadata": {
    "ExecuteTime": {
     "end_time": "2023-10-04T01:59:59.405877Z",
     "start_time": "2023-10-04T01:59:59.404733Z"
    }
   },
   "outputs": [],
   "source": [
    "data_path = f'{parent_data_path}/calgary-campinas_version-1.0/CC359/Raw-data/Multi-channel/12-channel/Val/{subject}'\n",
    "mask_path = f'{parent_data_path}/calgary-campinas_version-1.0/CC359/poisson_sampling_h5/Val/{subject}'"
   ]
  },
  {
   "cell_type": "markdown",
   "metadata": {},
   "source": [
    "# Read the data"
   ]
  },
  {
   "cell_type": "code",
   "execution_count": null,
   "metadata": {
    "ExecuteTime": {
     "end_time": "2023-10-04T02:00:00.041302Z",
     "start_time": "2023-10-04T01:59:59.406335Z"
    }
   },
   "outputs": [],
   "source": [
    "# load the k-space\n",
    "kspace = h5py.File(data_path)['kspace'][()]"
   ]
  },
  {
   "cell_type": "code",
   "execution_count": null,
   "metadata": {
    "ExecuteTime": {
     "end_time": "2023-10-04T02:00:00.047960Z",
     "start_time": "2023-10-04T02:00:00.041398Z"
    }
   },
   "outputs": [],
   "source": [
    "kspace.shape"
   ]
  },
  {
   "cell_type": "code",
   "execution_count": null,
   "metadata": {
    "ExecuteTime": {
     "end_time": "2023-10-04T02:00:01.210026Z",
     "start_time": "2023-10-04T02:00:00.051094Z"
    }
   },
   "outputs": [],
   "source": [
    "# necessary operation for the CC359 dataset\n",
    "kspace = np.moveaxis(kspace[..., ::2] + 1j * kspace[..., 1::2], -1, 1)"
   ]
  },
  {
   "cell_type": "code",
   "execution_count": null,
   "metadata": {
    "ExecuteTime": {
     "end_time": "2023-10-04T02:00:01.219238Z",
     "start_time": "2023-10-04T02:00:01.215870Z"
    }
   },
   "outputs": [],
   "source": [
    "kspace.shape"
   ]
  },
  {
   "cell_type": "code",
   "execution_count": null,
   "metadata": {
    "ExecuteTime": {
     "end_time": "2023-10-04T02:00:01.266428Z",
     "start_time": "2023-10-04T02:00:01.219637Z"
    }
   },
   "outputs": [],
   "source": [
    "# load the masks\n",
    "mask = h5py.File(mask_path)"
   ]
  },
  {
   "cell_type": "code",
   "execution_count": null,
   "metadata": {
    "ExecuteTime": {
     "end_time": "2023-10-04T02:00:01.271629Z",
     "start_time": "2023-10-04T02:00:01.268699Z"
    }
   },
   "outputs": [],
   "source": [
    "mask.keys()"
   ]
  },
  {
   "cell_type": "code",
   "execution_count": null,
   "metadata": {
    "ExecuteTime": {
     "end_time": "2023-10-04T02:00:01.284319Z",
     "start_time": "2023-10-04T02:00:01.274571Z"
    }
   },
   "outputs": [],
   "source": [
    "# pick a mask\n",
    "mask_5x = mask['mask_5x'][()]"
   ]
  },
  {
   "cell_type": "code",
   "execution_count": null,
   "metadata": {
    "ExecuteTime": {
     "end_time": "2023-10-04T02:00:01.308102Z",
     "start_time": "2023-10-04T02:00:01.286170Z"
    }
   },
   "outputs": [],
   "source": [
    "mask_5x.shape"
   ]
  },
  {
   "cell_type": "code",
   "execution_count": null,
   "metadata": {
    "ExecuteTime": {
     "end_time": "2023-10-04T02:00:01.308363Z",
     "start_time": "2023-10-04T02:00:01.291189Z"
    }
   },
   "outputs": [],
   "source": [
    "# pick a slice\n",
    "slice_idx = 100\n",
    "kspace = kspace[slice_idx]\n",
    "mask_5x = mask_5x[slice_idx]"
   ]
  },
  {
   "cell_type": "code",
   "execution_count": null,
   "metadata": {
    "ExecuteTime": {
     "end_time": "2023-10-04T02:00:01.423172Z",
     "start_time": "2023-10-04T02:00:01.298298Z"
    }
   },
   "outputs": [],
   "source": [
    "# transform to tensor\n",
    "kspace = utils.to_tensor(kspace)\n",
    "mask_5x = utils.to_tensor(mask_5x).unsqueeze(0).unsqueeze(-1)"
   ]
  },
  {
   "cell_type": "code",
   "execution_count": null,
   "metadata": {
    "ExecuteTime": {
     "end_time": "2023-10-04T02:00:01.430798Z",
     "start_time": "2023-10-04T02:00:01.425729Z"
    }
   },
   "outputs": [],
   "source": [
    "masked_kspace = kspace * mask_5x"
   ]
  },
  {
   "cell_type": "code",
   "execution_count": null,
   "metadata": {
    "ExecuteTime": {
     "end_time": "2023-10-04T02:00:01.433273Z",
     "start_time": "2023-10-04T02:00:01.431694Z"
    }
   },
   "outputs": [],
   "source": [
    "# initialize general parameters for transformations\n",
    "fft_centered = False\n",
    "fft_normalization = 'backward'\n",
    "spatial_dims = (-2, -1)\n",
    "coil_dim = 0"
   ]
  },
  {
   "cell_type": "code",
   "execution_count": null,
   "metadata": {
    "ExecuteTime": {
     "end_time": "2023-10-04T02:00:01.462194Z",
     "start_time": "2023-10-04T02:00:01.436455Z"
    }
   },
   "outputs": [],
   "source": [
    "# apply the IFFT\n",
    "imspace = fft.ifft2(kspace, fft_centered, fft_normalization, spatial_dims)\n",
    "masked_imspace = fft.ifft2(masked_kspace, fft_centered, fft_normalization, spatial_dims)\n",
    "# normalize the image for consistent visualization\n",
    "imspace = imspace / torch.max(torch.abs(imspace))\n",
    "masked_imspace = masked_imspace / torch.max(torch.abs(masked_imspace))\n",
    "# compute the RSS target\n",
    "rss_target = utils.rss_complex(imspace, coil_dim)\n",
    "masked_rss_target = utils.rss_complex(masked_imspace, coil_dim)"
   ]
  },
  {
   "cell_type": "code",
   "execution_count": null,
   "metadata": {
    "ExecuteTime": {
     "end_time": "2023-10-04T02:00:01.647597Z",
     "start_time": "2023-10-04T02:00:01.463671Z"
    }
   },
   "outputs": [],
   "source": [
    "plt.figure(figsize=(10, 10))\n",
    "plt.subplot(1, 3, 1)\n",
    "plt.imshow(torch.abs(rss_target), cmap='gray')\n",
    "plt.title('Fully-sampled RSS')\n",
    "plt.axis('off')\n",
    "plt.subplot(1, 3, 2)\n",
    "plt.imshow(torch.abs(masked_rss_target), cmap='gray')\n",
    "plt.title('Undersampled 5x RSS')\n",
    "plt.axis('off')\n",
    "plt.subplot(1, 3, 3)\n",
    "plt.imshow(mask_5x.squeeze(), cmap='gray')\n",
    "plt.title(f'Poisson 2D 5x CC359', fontsize=14)\n",
    "plt.axis('off')\n",
    "plt.show()"
   ]
  },
  {
   "cell_type": "markdown",
   "metadata": {},
   "source": [
    "***\n",
    "# ATOMMIC Undersampling\n",
    "***"
   ]
  },
  {
   "cell_type": "markdown",
   "metadata": {},
   "source": [
    "# Equispaced 1D"
   ]
  },
  {
   "cell_type": "code",
   "execution_count": null,
   "metadata": {
    "ExecuteTime": {
     "end_time": "2023-10-04T02:00:01.659654Z",
     "start_time": "2023-10-04T02:00:01.649466Z"
    }
   },
   "outputs": [],
   "source": [
    "# initialize the undersampling masker\n",
    "masker = create_masker('equispaced1d', 0.08, 4)\n",
    "# apply the masker\n",
    "masked_kspace, mask, acc = utils.apply_mask(kspace, masker)\n",
    "# apply the IFFT\n",
    "masked_imspace = fft.ifft2(masked_kspace, fft_centered, fft_normalization, spatial_dims)\n",
    "# normalize the image for consistent visualization\n",
    "masked_imspace = masked_imspace / torch.max(torch.abs(masked_imspace))\n",
    "# compute the RSS target\n",
    "masked_imspace_rss_target = utils.rss_complex(masked_imspace, coil_dim)"
   ]
  },
  {
   "cell_type": "code",
   "execution_count": null,
   "metadata": {
    "ExecuteTime": {
     "end_time": "2023-10-04T02:00:01.816335Z",
     "start_time": "2023-10-04T02:00:01.667932Z"
    }
   },
   "outputs": [],
   "source": [
    "plt.figure(figsize=(10, 10))\n",
    "plt.subplot(1, 3, 1)\n",
    "plt.imshow(rss_target, cmap='gray')\n",
    "plt.title('Fully-sampled RSS')\n",
    "plt.axis('off')\n",
    "plt.subplot(1, 3, 2)\n",
    "plt.imshow(masked_imspace_rss_target, cmap='gray')\n",
    "plt.title(f'Equispaced 1D {acc:1.0f}x RSS')\n",
    "plt.axis('off')\n",
    "plt.subplot(1, 3, 3)\n",
    "plt.imshow(mask.repeat(1, masked_kspace.shape[1], 1, 1).squeeze(), cmap='gray')\n",
    "plt.title(f'Equispaced 1D {acc:1.0f}x', fontsize=14)\n",
    "plt.axis('off')\n",
    "plt.show()"
   ]
  },
  {
   "cell_type": "markdown",
   "metadata": {},
   "source": [
    "# Equispaced 2D"
   ]
  },
  {
   "cell_type": "code",
   "execution_count": null,
   "metadata": {
    "ExecuteTime": {
     "end_time": "2023-10-04T02:00:01.834339Z",
     "start_time": "2023-10-04T02:00:01.817457Z"
    }
   },
   "outputs": [],
   "source": [
    "# initialize the undersampling masker\n",
    "masker = create_masker('equispaced2d', 0.08, 4)\n",
    "# apply the masker\n",
    "masked_kspace, mask, acc = utils.apply_mask(kspace, masker)\n",
    "# apply the IFFT\n",
    "masked_imspace = fft.ifft2(masked_kspace, fft_centered, fft_normalization, spatial_dims)\n",
    "# normalize the image for consistent visualization\n",
    "masked_imspace = masked_imspace / torch.max(torch.abs(masked_imspace))\n",
    "# compute the RSS target\n",
    "masked_imspace_rss_target = utils.rss_complex(masked_imspace, coil_dim)"
   ]
  },
  {
   "cell_type": "code",
   "execution_count": null,
   "metadata": {
    "ExecuteTime": {
     "end_time": "2023-10-04T02:00:01.999644Z",
     "start_time": "2023-10-04T02:00:01.841757Z"
    }
   },
   "outputs": [],
   "source": [
    "plt.figure(figsize=(10, 10))\n",
    "plt.subplot(1, 3, 1)\n",
    "plt.imshow(rss_target, cmap='gray')\n",
    "plt.title('Fully-sampled RSS')\n",
    "plt.axis('off')\n",
    "plt.subplot(1, 3, 2)\n",
    "plt.imshow(masked_imspace_rss_target, cmap='gray')\n",
    "plt.title(f'Equispaced 2D {acc:1.0f}x RSS')\n",
    "plt.axis('off')\n",
    "plt.subplot(1, 3, 3)\n",
    "plt.imshow(mask.squeeze(), cmap='gray')\n",
    "plt.title(f'Equispaced 2D {acc:1.0f}x', fontsize=14)\n",
    "plt.axis('off')\n",
    "plt.show()"
   ]
  },
  {
   "cell_type": "markdown",
   "metadata": {},
   "source": [
    "# Gaussian 1D"
   ]
  },
  {
   "cell_type": "code",
   "execution_count": null,
   "metadata": {
    "ExecuteTime": {
     "end_time": "2023-10-04T02:00:02.017527Z",
     "start_time": "2023-10-04T02:00:02.002841Z"
    }
   },
   "outputs": [],
   "source": [
    "# initialize the undersampling masker\n",
    "masker = create_masker('gaussian1d', 0.7, 4)\n",
    "# apply the masker\n",
    "masked_kspace, mask, acc = utils.apply_mask(kspace, masker, shift=True, center_scale=0.02)\n",
    "# apply the IFFT\n",
    "masked_imspace = fft.ifft2(masked_kspace, fft_centered, fft_normalization, spatial_dims)\n",
    "# normalize the image for consistent visualization\n",
    "masked_imspace = masked_imspace / torch.max(torch.abs(masked_imspace))\n",
    "# compute the RSS target\n",
    "masked_imspace_rss_target = utils.rss_complex(masked_imspace, coil_dim)"
   ]
  },
  {
   "cell_type": "code",
   "execution_count": null,
   "metadata": {
    "ExecuteTime": {
     "end_time": "2023-10-04T02:00:02.185976Z",
     "start_time": "2023-10-04T02:00:02.021658Z"
    }
   },
   "outputs": [],
   "source": [
    "plt.figure(figsize=(10, 10))\n",
    "plt.subplot(1, 3, 1)\n",
    "plt.imshow(rss_target, cmap='gray')\n",
    "plt.title('Fully-sampled RSS')\n",
    "plt.axis('off')\n",
    "plt.subplot(1, 3, 2)\n",
    "plt.imshow(masked_imspace_rss_target, cmap='gray')\n",
    "plt.title(f'Gaussian 1D {acc:1.0f}x RSS')\n",
    "plt.axis('off')\n",
    "plt.subplot(1, 3, 3)\n",
    "plt.imshow(mask.repeat(1, masked_kspace.shape[1], 1, 1).squeeze(), cmap='gray')\n",
    "plt.title(f'Gaussian 1D {acc:1.0f}x', fontsize=14)\n",
    "plt.axis('off')\n",
    "plt.show()"
   ]
  },
  {
   "cell_type": "markdown",
   "metadata": {},
   "source": [
    "# Gaussian 2D"
   ]
  },
  {
   "cell_type": "code",
   "execution_count": null,
   "metadata": {
    "ExecuteTime": {
     "end_time": "2023-10-04T02:00:02.229020Z",
     "start_time": "2023-10-04T02:00:02.185572Z"
    }
   },
   "outputs": [],
   "source": [
    "# initialize the undersampling masker\n",
    "masker = create_masker('gaussian2d', 0.7, 4)\n",
    "# apply the masker\n",
    "masked_kspace, mask, acc = utils.apply_mask(kspace, masker, center_scale=0.02)\n",
    "# apply the IFFT\n",
    "masked_imspace = fft.ifft2(masked_kspace, fft_centered, fft_normalization, spatial_dims)\n",
    "# normalize the image for consistent visualization\n",
    "masked_imspace = masked_imspace / torch.max(torch.abs(masked_imspace))\n",
    "# compute the RSS target\n",
    "masked_imspace_rss_target = utils.rss_complex(masked_imspace, coil_dim)"
   ]
  },
  {
   "cell_type": "code",
   "execution_count": null,
   "metadata": {
    "ExecuteTime": {
     "end_time": "2023-10-04T02:00:02.529746Z",
     "start_time": "2023-10-04T02:00:02.236296Z"
    }
   },
   "outputs": [],
   "source": [
    "plt.figure(figsize=(10, 10))\n",
    "plt.subplot(1, 3, 1)\n",
    "plt.imshow(rss_target, cmap='gray')\n",
    "plt.title('Fully-sampled RSS')\n",
    "plt.axis('off')\n",
    "plt.subplot(1, 3, 2)\n",
    "plt.imshow(masked_imspace_rss_target, cmap='gray')\n",
    "plt.title(f'Gaussian 2D {acc:1.0f}x RSS')\n",
    "plt.axis('off')\n",
    "plt.subplot(1, 3, 3)\n",
    "plt.imshow(mask.squeeze(), cmap='gray')\n",
    "plt.title(f'Gaussian 2D {acc:1.0f}x', fontsize=14)\n",
    "plt.axis('off')\n",
    "plt.show()"
   ]
  },
  {
   "cell_type": "markdown",
   "metadata": {},
   "source": [
    "# Poisson 2D"
   ]
  },
  {
   "cell_type": "code",
   "execution_count": null,
   "metadata": {
    "ExecuteTime": {
     "end_time": "2023-10-04T02:00:02.986791Z",
     "start_time": "2023-10-04T02:00:02.530757Z"
    }
   },
   "outputs": [],
   "source": [
    "# initialize the undersampling masker\n",
    "masker = create_masker('poisson2d', 0.7, 4)\n",
    "# apply the masker\n",
    "masked_kspace, mask, acc = utils.apply_mask(kspace, masker)\n",
    "# apply the IFFT\n",
    "masked_imspace = fft.ifft2(masked_kspace, fft_centered, fft_normalization, spatial_dims)\n",
    "# normalize the image for consistent visualization\n",
    "masked_imspace = masked_imspace / torch.max(torch.abs(masked_imspace))\n",
    "# compute the RSS target\n",
    "masked_imspace_rss_target = utils.rss_complex(masked_imspace, coil_dim)"
   ]
  },
  {
   "cell_type": "code",
   "execution_count": null,
   "metadata": {
    "ExecuteTime": {
     "end_time": "2023-10-04T02:00:03.140113Z",
     "start_time": "2023-10-04T02:00:02.993555Z"
    }
   },
   "outputs": [],
   "source": [
    "plt.figure(figsize=(10, 10))\n",
    "plt.subplot(1, 3, 1)\n",
    "plt.imshow(rss_target, cmap='gray')\n",
    "plt.title('Fully-sampled RSS')\n",
    "plt.axis('off')\n",
    "plt.subplot(1, 3, 2)\n",
    "plt.imshow(masked_imspace_rss_target, cmap='gray')\n",
    "plt.title(f'Poisson 2D {acc:1.0f}x RSS')\n",
    "plt.axis('off')\n",
    "plt.subplot(1, 3, 3)\n",
    "plt.imshow(mask.squeeze(), cmap='gray')\n",
    "plt.title(f'Poisson 2D {acc:1.0f}x', fontsize=14)\n",
    "plt.axis('off')\n",
    "plt.show()"
   ]
  },
  {
   "cell_type": "markdown",
   "metadata": {},
   "source": [
    "# Random 1D"
   ]
  },
  {
   "cell_type": "code",
   "execution_count": null,
   "metadata": {
    "ExecuteTime": {
     "end_time": "2023-10-04T02:00:03.160013Z",
     "start_time": "2023-10-04T02:00:03.146450Z"
    }
   },
   "outputs": [],
   "source": [
    "# initialize the undersampling masker\n",
    "masker = create_masker('random1d', 0.08, 4)\n",
    "# apply the masker\n",
    "masked_kspace, mask, acc = utils.apply_mask(kspace, masker)\n",
    "# apply the IFFT\n",
    "masked_imspace = fft.ifft2(masked_kspace, fft_centered, fft_normalization, spatial_dims)\n",
    "# normalize the image for consistent visualization\n",
    "masked_imspace = masked_imspace / torch.max(torch.abs(masked_imspace))\n",
    "# compute the RSS target\n",
    "masked_imspace_rss_target = utils.rss_complex(masked_imspace, coil_dim)"
   ]
  },
  {
   "cell_type": "code",
   "execution_count": null,
   "metadata": {
    "ExecuteTime": {
     "end_time": "2023-10-04T02:00:03.370445Z",
     "start_time": "2023-10-04T02:00:03.167887Z"
    }
   },
   "outputs": [],
   "source": [
    "plt.figure(figsize=(10, 10))\n",
    "plt.subplot(1, 3, 1)\n",
    "plt.imshow(rss_target, cmap='gray')\n",
    "plt.title('Fully-sampled RSS')\n",
    "plt.axis('off')\n",
    "plt.subplot(1, 3, 2)\n",
    "plt.imshow(masked_imspace_rss_target, cmap='gray')\n",
    "plt.title(f'Random 1D {acc:1.0f}x RSS')\n",
    "plt.axis('off')\n",
    "plt.subplot(1, 3, 3)\n",
    "plt.imshow(mask.repeat(1, masked_kspace.shape[1], 1, 1).squeeze(), cmap='gray')\n",
    "plt.title(f'Random 1D {acc:1.0f}x', fontsize=14)\n",
    "plt.axis('off')\n",
    "plt.show()"
   ]
  },
  {
   "cell_type": "markdown",
   "metadata": {},
   "source": [
    "# Poisson 2D 20% Partial Fourier"
   ]
  },
  {
   "cell_type": "code",
   "execution_count": null,
   "metadata": {
    "ExecuteTime": {
     "end_time": "2023-10-04T02:00:03.761798Z",
     "start_time": "2023-10-04T02:00:03.371868Z"
    }
   },
   "outputs": [],
   "source": [
    "# initialize the undersampling masker\n",
    "masker = create_masker('poisson2d', 0.7, 4)\n",
    "# apply the masker\n",
    "masked_kspace, mask, _ = utils.apply_mask(kspace, masker)\n",
    "masked_kspace_partial_fourier, mask_partial_fourier, acc = utils.apply_mask(kspace, masker, partial_fourier_percentage=0.2)\n",
    "# apply the IFFT\n",
    "masked_imspace = fft.ifft2(masked_kspace, fft_centered, fft_normalization, spatial_dims)\n",
    "masked_imspace_partial_fourier = fft.ifft2(masked_kspace_partial_fourier, fft_centered, fft_normalization, spatial_dims)\n",
    "# normalize the image for consistent visualization\n",
    "masked_imspace = masked_imspace / torch.max(torch.abs(masked_imspace))\n",
    "masked_imspace_partial_fourier = masked_imspace_partial_fourier / torch.max(torch.abs(masked_imspace_partial_fourier))\n",
    "# compute the RSS target\n",
    "masked_imspace_rss_target = utils.rss_complex(masked_imspace, coil_dim)\n",
    "masked_imspace_partial_fourier_rss_target = utils.rss_complex(masked_imspace_partial_fourier, coil_dim)"
   ]
  },
  {
   "cell_type": "code",
   "execution_count": null,
   "metadata": {
    "ExecuteTime": {
     "end_time": "2023-10-04T02:00:04.554164Z",
     "start_time": "2023-10-04T02:00:03.770385Z"
    }
   },
   "outputs": [],
   "source": [
    "plt.figure(figsize=(15, 15))\n",
    "plt.subplot(1, 5, 1)\n",
    "plt.imshow(rss_target, cmap='gray')\n",
    "plt.title('Fully-sampled RSS')\n",
    "plt.axis('off')\n",
    "plt.subplot(1, 5, 2)\n",
    "plt.imshow(masked_imspace_rss_target, cmap='gray')\n",
    "plt.title(f'Poisson 2D {acc:1.0f}x RSS')\n",
    "plt.axis('off')\n",
    "plt.subplot(1, 5, 3)\n",
    "plt.imshow(mask.squeeze(), cmap='gray')\n",
    "plt.title(f'Poisson 2D {acc:1.0f}x')\n",
    "plt.axis('off')\n",
    "plt.subplot(1, 5, 4)\n",
    "plt.imshow(masked_imspace_partial_fourier_rss_target, cmap='gray')\n",
    "plt.title(f'Poisson 2D {acc:1.0f}x \\n 20% Partial Fourier RSS')\n",
    "plt.axis('off')\n",
    "plt.subplot(1, 5, 5)\n",
    "plt.imshow(mask_partial_fourier.squeeze(), cmap='gray')\n",
    "plt.title(f'Poisson 2D {acc:1.0f}x \\n 20% Partial Fourier')\n",
    "plt.axis('off')\n",
    "plt.show()"
   ]
  }
 ],
 "metadata": {
  "kernelspec": {
   "display_name": "Python 3 (ipykernel)",
   "language": "python",
   "name": "python3"
  },
  "language_info": {
   "codemirror_mode": {
    "name": "ipython",
    "version": 3
   },
   "file_extension": ".py",
   "mimetype": "text/x-python",
   "name": "python",
   "nbconvert_exporter": "python",
   "pygments_lexer": "ipython3",
   "version": "3.10.0"
  }
 },
 "nbformat": 4,
 "nbformat_minor": 1
}
